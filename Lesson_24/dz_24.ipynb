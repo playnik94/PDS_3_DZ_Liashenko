{
 "cells": [
  {
   "cell_type": "markdown",
   "id": "2c455e3c",
   "metadata": {},
   "source": [
    "### Задача номер 1 \n",
    "\n",
    "P(A) =$ \\frac{P(A,B)}{P(B)}=\\frac{40}{100} = 0,4$"
   ]
  },
  {
   "cell_type": "markdown",
   "id": "2c0e10e0",
   "metadata": {},
   "source": [
    "\n",
    "### Задача номер 2\n",
    "\n",
    "$ \\frac{x}{y}\\frac{1000}{0,5}\\frac{1500}{0,3}\\frac{2000}{0,2} = 1000 * 0,5 + 1500 * 0,3 + 2000 * 0,2 = 1350$"
   ]
  },
  {
   "cell_type": "code",
   "execution_count": null,
   "id": "335ccef4",
   "metadata": {},
   "outputs": [],
   "source": []
  }
 ],
 "metadata": {
  "kernelspec": {
   "display_name": "Python 3 (ipykernel)",
   "language": "python",
   "name": "python3"
  },
  "language_info": {
   "codemirror_mode": {
    "name": "ipython",
    "version": 3
   },
   "file_extension": ".py",
   "mimetype": "text/x-python",
   "name": "python",
   "nbconvert_exporter": "python",
   "pygments_lexer": "ipython3",
   "version": "3.10.8"
  }
 },
 "nbformat": 4,
 "nbformat_minor": 5
}
