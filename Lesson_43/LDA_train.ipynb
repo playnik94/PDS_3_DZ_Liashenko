{
 "cells": [
  {
   "cell_type": "code",
   "execution_count": 5,
   "id": "7966ad3d",
   "metadata": {},
   "outputs": [
    {
     "name": "stdout",
     "output_type": "stream",
     "text": [
      "3.10.8\n"
     ]
    }
   ],
   "source": [
    "from platform import python_version\n",
    "\n",
    "print(python_version())"
   ]
  },
  {
   "cell_type": "code",
   "execution_count": 10,
   "id": "5e9866a1",
   "metadata": {},
   "outputs": [],
   "source": [
    "from sklearn.datasets import make_classification\n",
    "from sklearn.discriminant_analysis import LinearDiscriminantAnalysis as LDA\n",
    "from sklearn.model_selection import train_test_split\n",
    "from sklearn import metrics\n",
    "import numpy as np\n",
    "import pandas as pd\n",
    "import matplotlib.pyplot as plt\n",
    "import seaborn as sns\n",
    "from sklearn.datasets import load_wine, load_iris"
   ]
  },
  {
   "cell_type": "code",
   "execution_count": 89,
   "id": "251675d6",
   "metadata": {},
   "outputs": [
    {
     "data": {
      "text/plain": [
       "(178, 13)"
      ]
     },
     "execution_count": 89,
     "metadata": {},
     "output_type": "execute_result"
    }
   ],
   "source": [
    "d = load_wine()\n",
    "\n",
    "d.data.shape"
   ]
  },
  {
   "cell_type": "code",
   "execution_count": 90,
   "id": "ee6c67c3",
   "metadata": {},
   "outputs": [],
   "source": [
    "\n",
    "data = load_iris()\n",
    "\n",
    "df = pd.DataFrame(data.data, columns=data.feature_names)\n",
    "df['class'] = data.target"
   ]
  },
  {
   "cell_type": "code",
   "execution_count": 91,
   "id": "2a59d90b",
   "metadata": {},
   "outputs": [],
   "source": [
    "feature_means_1 = df.groupby('class').mean().T"
   ]
  },
  {
   "cell_type": "code",
   "execution_count": 92,
   "id": "b6396d3b",
   "metadata": {},
   "outputs": [
    {
     "data": {
      "text/html": [
       "<div>\n",
       "<style scoped>\n",
       "    .dataframe tbody tr th:only-of-type {\n",
       "        vertical-align: middle;\n",
       "    }\n",
       "\n",
       "    .dataframe tbody tr th {\n",
       "        vertical-align: top;\n",
       "    }\n",
       "\n",
       "    .dataframe thead th {\n",
       "        text-align: right;\n",
       "    }\n",
       "</style>\n",
       "<table border=\"1\" class=\"dataframe\">\n",
       "  <thead>\n",
       "    <tr style=\"text-align: right;\">\n",
       "      <th>class</th>\n",
       "      <th>0</th>\n",
       "      <th>1</th>\n",
       "      <th>2</th>\n",
       "    </tr>\n",
       "  </thead>\n",
       "  <tbody>\n",
       "    <tr>\n",
       "      <th>sepal length (cm)</th>\n",
       "      <td>5.006</td>\n",
       "      <td>5.936</td>\n",
       "      <td>6.588</td>\n",
       "    </tr>\n",
       "    <tr>\n",
       "      <th>sepal width (cm)</th>\n",
       "      <td>3.428</td>\n",
       "      <td>2.770</td>\n",
       "      <td>2.974</td>\n",
       "    </tr>\n",
       "    <tr>\n",
       "      <th>petal length (cm)</th>\n",
       "      <td>1.462</td>\n",
       "      <td>4.260</td>\n",
       "      <td>5.552</td>\n",
       "    </tr>\n",
       "    <tr>\n",
       "      <th>petal width (cm)</th>\n",
       "      <td>0.246</td>\n",
       "      <td>1.326</td>\n",
       "      <td>2.026</td>\n",
       "    </tr>\n",
       "  </tbody>\n",
       "</table>\n",
       "</div>"
      ],
      "text/plain": [
       "class                  0      1      2\n",
       "sepal length (cm)  5.006  5.936  6.588\n",
       "sepal width (cm)   3.428  2.770  2.974\n",
       "petal length (cm)  1.462  4.260  5.552\n",
       "petal width (cm)   0.246  1.326  2.026"
      ]
     },
     "execution_count": 92,
     "metadata": {},
     "output_type": "execute_result"
    }
   ],
   "source": [
    "feature_means_1.head()"
   ]
  },
  {
   "cell_type": "code",
   "execution_count": 93,
   "id": "3cafe825",
   "metadata": {},
   "outputs": [],
   "source": [
    "with_in_class_s_m = np.zeros((4, 4))\n",
    "\n",
    "for c, rows in df.groupby('class'):\n",
    "    rows = rows.drop(['class'], axis=1)\n",
    "    \n",
    "s = np.zeros((4, 4))\n",
    "\n",
    "for index, row in rows.iterrows():\n",
    "    x, mc = row.values.reshape(4, 1), feature_means_1[c].values.reshape(4, 1)\n",
    "        \n",
    "    s += (x - mc).dot((x - mc).T)\n",
    "        \n",
    "    with_in_class_s_m += s"
   ]
  },
  {
   "cell_type": "code",
   "execution_count": 94,
   "id": "059499df",
   "metadata": {},
   "outputs": [],
   "source": [
    "feature_name2 = df.iloc[::, :-1].mean()\n",
    "\n",
    "between_class_m = np.zeros((4, 4))\n",
    "\n",
    "for c in feature_means_1:\n",
    "    n = len(df.loc[df['class'] == c].index)\n",
    "    mc, m = feature_means_1[c].values.reshape(4, 1), feature_name2.values.reshape(4, 1)\n",
    "\n",
    "\n",
    "between_class_m += n * (mc - m).dot((mc - m).T)"
   ]
  },
  {
   "cell_type": "code",
   "execution_count": 95,
   "id": "75fac66e",
   "metadata": {
    "scrolled": true
   },
   "outputs": [
    {
     "data": {
      "text/plain": [
       "(4, 4)"
      ]
     },
     "execution_count": 95,
     "metadata": {},
     "output_type": "execute_result"
    }
   ],
   "source": [
    "between_class_m.shape"
   ]
  },
  {
   "cell_type": "code",
   "execution_count": 96,
   "id": "fd153bc0",
   "metadata": {},
   "outputs": [],
   "source": [
    "eigen_values, eigen_vectors =  np.linalg.eig(np.linalg.inv(with_in_class_s_m).dot(between_class_m))"
   ]
  },
  {
   "cell_type": "code",
   "execution_count": 97,
   "id": "7be13e7e",
   "metadata": {},
   "outputs": [
    {
     "name": "stdout",
     "output_type": "stream",
     "text": [
      "1.1326262452293236\n",
      "4.7160889029751517e-17\n",
      "4.7160889029751517e-17\n",
      "0.0\n"
     ]
    }
   ],
   "source": [
    "eigen_pairs = [(np.abs(eigen_values[i]), eigen_vectors[:, i]) for i in range(len(eigen_values))]\n",
    "\n",
    "eigen_pairs = sorted(eigen_pairs, key=lambda x: x[0], reverse=True)\n",
    "\n",
    "for pair in eigen_pairs:\n",
    "    print(pair[0])"
   ]
  },
  {
   "cell_type": "code",
   "execution_count": 104,
   "id": "bf9f5504",
   "metadata": {},
   "outputs": [
    {
     "name": "stdout",
     "output_type": "stream",
     "text": [
      " Eigen Vecorts 0: 1.0\n",
      " Eigen Vecorts 1: 4.163852747399723e-17\n",
      " Eigen Vecorts 2: 4.163852747399723e-17\n",
      " Eigen Vecorts 3: 0.0\n"
     ]
    }
   ],
   "source": [
    "sum_of_eigen_values = np.sum(eigen_values)\n",
    "\n",
    "for i, pair in enumerate(eigen_pairs):\n",
    "    print(f' Eigen Vecorts {i}: {(pair[0] / sum_of_eigen_values).real}')"
   ]
  },
  {
   "cell_type": "code",
   "execution_count": 121,
   "id": "136f48e2",
   "metadata": {
    "scrolled": true
   },
   "outputs": [
    {
     "data": {
      "text/plain": [
       "array([[-0.3532, -0.8824],\n",
       "       [-0.4008, -0.0159],\n",
       "       [ 0.5996,  0.3094],\n",
       "       [ 0.5959,  0.1218]])"
      ]
     },
     "execution_count": 121,
     "metadata": {},
     "output_type": "execute_result"
    }
   ],
   "source": [
    "W_matrix = np.hstack((eigen_pairs[0][1].reshape(4, 1), eigen_pairs[1][1].reshape(4, 1))).real\n",
    "\n",
    "W_matrix"
   ]
  },
  {
   "cell_type": "code",
   "execution_count": 123,
   "id": "c36de4a5",
   "metadata": {},
   "outputs": [],
   "source": [
    "X_lda = np.array(X.dot(W_matrix))"
   ]
  },
  {
   "cell_type": "code",
   "execution_count": 129,
   "id": "d0c90331",
   "metadata": {},
   "outputs": [
    {
     "data": {
      "image/png": "[encoded data removed]",
      "text/plain": [
       "<Figure size 640x480 with 1 Axes>"
      ]
     },
     "metadata": {},
     "output_type": "display_data"
    }
   ],
   "source": [
    "plt.scatter(X_lda[:, 0], X_lda[:, 1], c=df['class'])\n",
    "plt.show()"
   ]
  },
  {
   "cell_type": "markdown",
   "id": "638f4b76",
   "metadata": {},
   "source": [
    "--------------------------"
   ]
  },
  {
   "cell_type": "code",
   "execution_count": 72,
   "id": "c6fa7cf2",
   "metadata": {},
   "outputs": [],
   "source": [
    "import numpy as np\n",
    "from sklearn.discriminant_analysis import LinearDiscriminantAnalysis\n",
    "from sklearn.datasets import make_classification\n",
    "np.set_printoptions(precision=4)"
   ]
  },
  {
   "cell_type": "code",
   "execution_count": 10,
   "id": "f02e49f2",
   "metadata": {
    "scrolled": true
   },
   "outputs": [
    {
     "data": {
      "text/plain": [
       "array([[ 1.6243, -0.6118, -0.5282, -1.073 ,  0.8654, -2.3015,  1.7448,\n",
       "        -0.7612,  0.319 , -0.2494],\n",
       "       [ 1.4621, -2.0601, -0.3224, -0.3841,  1.1338, -1.0999, -0.1724,\n",
       "        -0.8779,  0.0422,  0.5828],\n",
       "       [-1.1006,  1.1447,  0.9016,  0.5025,  0.9009, -0.6837, -0.1229,\n",
       "        -0.9358, -0.2679,  0.5304],\n",
       "       [-0.6917, -0.3968, -0.6872, -0.8452, -0.6712, -0.0127, -1.1173,\n",
       "         0.2344,  1.6598,  0.742 ],\n",
       "       [-0.1918, -0.8876, -0.7472,  1.6925,  0.0508, -0.637 ,  0.1909,\n",
       "         2.1003,  0.1202,  0.6172],\n",
       "       [ 0.3002, -0.3522, -1.1425, -0.3493, -0.2089,  0.5866,  0.839 ,\n",
       "         0.9311,  0.2856,  0.8851],\n",
       "       [-0.7544,  1.2529,  0.5129, -0.2981,  0.4885, -0.0756,  1.1316,\n",
       "         1.5198,  2.1856, -1.3965],\n",
       "       [-1.4441, -0.5045,  0.16  ,  0.8762,  0.3156, -2.0222, -0.3062,\n",
       "         0.828 ,  0.2301,  0.762 ],\n",
       "       [-0.2223, -0.2008,  0.1866,  0.4101,  0.1983,  0.119 , -0.6707,\n",
       "         0.3776,  0.1218,  1.1295],\n",
       "       [ 1.1989,  0.1852, -0.3753, -0.6387,  0.4235,  0.0773, -0.3439,\n",
       "         0.0436, -0.62  ,  0.698 ]])"
      ]
     },
     "execution_count": 10,
     "metadata": {},
     "output_type": "execute_result"
    }
   ],
   "source": [
    "np.random.seed(1)\n",
    "np.random.randn(10, (10))"
   ]
  },
  {
   "cell_type": "markdown",
   "id": "47ab6fc1",
   "metadata": {},
   "source": [
    "-----------"
   ]
  },
  {
   "cell_type": "code",
   "execution_count": 23,
   "id": "7ce1940e",
   "metadata": {},
   "outputs": [],
   "source": [
    "import numpy as np\n",
    "import pandas as pd\n",
    "from sklearn.datasets import load_iris\n",
    "from sklearn.discriminant_analysis import LinearDiscriminantAnalysis\n",
    "from sklearn import metrics\n",
    "import matplotlib.pyplot as plt\n",
    "from sklearn.preprocessing import LabelEncoder\n",
    "from sklearn.model_selection import train_test_split"
   ]
  },
  {
   "cell_type": "code",
   "execution_count": 22,
   "id": "d28b32c3",
   "metadata": {
    "scrolled": false
   },
   "outputs": [
    {
     "data": {
      "image/png": "[encoded data removed]",
      "text/plain": [
       "<Figure size 800x600 with 1 Axes>"
      ]
     },
     "metadata": {},
     "output_type": "display_data"
    }
   ],
   "source": [
    "\n",
    "iris = load_iris()\n",
    "X = iris.data\n",
    "y = iris.target\n",
    "feature_names = iris.feature_names\n",
    "target_names = iris.target_names\n",
    "\n",
    "\n",
    "df = pd.DataFrame(X, columns=feature_names)\n",
    "df['target'] = y\n",
    "\n",
    "\n",
    "plt.figure(figsize=(8, 6))\n",
    "for target, color, label in zip([0, 1, 2], ['red', 'green', 'blue'], target_names):\n",
    "    plt.scatter(\n",
    "        df[df['target'] == target][feature_names[0]],\n",
    "        df[df['target'] == target][feature_names[1]],\n",
    "        label=label, color=color\n",
    "    )\n",
    "\n",
    "plt.xlabel(feature_names[0])\n",
    "plt.ylabel(feature_names[1])\n",
    "plt.title(\"2D Визуализация данных Iris\")\n",
    "plt.legend()\n",
    "plt.grid(True)\n",
    "plt.show()\n"
   ]
  },
  {
   "cell_type": "markdown",
   "id": "a2fc48f3",
   "metadata": {},
   "source": [
    "------"
   ]
  },
  {
   "cell_type": "code",
   "execution_count": 8,
   "id": "3f4c5687",
   "metadata": {},
   "outputs": [],
   "source": [
    "import numpy as np\n",
    "import pandas as pd\n",
    "from sklearn.discriminant_analysis import LinearDiscriminantAnalysis\n",
    "from sklearn import datasets\n",
    "from sklearn import metrics\n",
    "from sklearn.model_selection import train_test_split"
   ]
  },
  {
   "cell_type": "code",
   "execution_count": 5,
   "id": "2d7f6edf",
   "metadata": {
    "scrolled": true
   },
   "outputs": [
    {
     "data": {
      "text/html": [
       "<div>\n",
       "<style scoped>\n",
       "    .dataframe tbody tr th:only-of-type {\n",
       "        vertical-align: middle;\n",
       "    }\n",
       "\n",
       "    .dataframe tbody tr th {\n",
       "        vertical-align: top;\n",
       "    }\n",
       "\n",
       "    .dataframe thead th {\n",
       "        text-align: right;\n",
       "    }\n",
       "</style>\n",
       "<table border=\"1\" class=\"dataframe\">\n",
       "  <thead>\n",
       "    <tr style=\"text-align: right;\">\n",
       "      <th></th>\n",
       "      <th>sepal length (cm)</th>\n",
       "      <th>sepal width (cm)</th>\n",
       "      <th>petal length (cm)</th>\n",
       "      <th>petal width (cm)</th>\n",
       "      <th>target</th>\n",
       "    </tr>\n",
       "  </thead>\n",
       "  <tbody>\n",
       "    <tr>\n",
       "      <th>0</th>\n",
       "      <td>5.1</td>\n",
       "      <td>3.5</td>\n",
       "      <td>1.4</td>\n",
       "      <td>0.2</td>\n",
       "      <td>0</td>\n",
       "    </tr>\n",
       "    <tr>\n",
       "      <th>1</th>\n",
       "      <td>4.9</td>\n",
       "      <td>3.0</td>\n",
       "      <td>1.4</td>\n",
       "      <td>0.2</td>\n",
       "      <td>0</td>\n",
       "    </tr>\n",
       "    <tr>\n",
       "      <th>2</th>\n",
       "      <td>4.7</td>\n",
       "      <td>3.2</td>\n",
       "      <td>1.3</td>\n",
       "      <td>0.2</td>\n",
       "      <td>0</td>\n",
       "    </tr>\n",
       "    <tr>\n",
       "      <th>3</th>\n",
       "      <td>4.6</td>\n",
       "      <td>3.1</td>\n",
       "      <td>1.5</td>\n",
       "      <td>0.2</td>\n",
       "      <td>0</td>\n",
       "    </tr>\n",
       "    <tr>\n",
       "      <th>4</th>\n",
       "      <td>5.0</td>\n",
       "      <td>3.6</td>\n",
       "      <td>1.4</td>\n",
       "      <td>0.2</td>\n",
       "      <td>0</td>\n",
       "    </tr>\n",
       "  </tbody>\n",
       "</table>\n",
       "</div>"
      ],
      "text/plain": [
       "   sepal length (cm)  sepal width (cm)  petal length (cm)  petal width (cm)  \\\n",
       "0                5.1               3.5                1.4               0.2   \n",
       "1                4.9               3.0                1.4               0.2   \n",
       "2                4.7               3.2                1.3               0.2   \n",
       "3                4.6               3.1                1.5               0.2   \n",
       "4                5.0               3.6                1.4               0.2   \n",
       "\n",
       "   target  \n",
       "0       0  \n",
       "1       0  \n",
       "2       0  \n",
       "3       0  \n",
       "4       0  "
      ]
     },
     "execution_count": 5,
     "metadata": {},
     "output_type": "execute_result"
    }
   ],
   "source": [
    "df = pd.DataFrame(datasets.load_iris().data, columns=datasets.load_iris().feature_names)\n",
    "df['target'] = datasets.load_iris().target\n",
    "\n",
    "df.head()"
   ]
  },
  {
   "cell_type": "code",
   "execution_count": 7,
   "id": "2808199e",
   "metadata": {},
   "outputs": [],
   "source": [
    "x = df.iloc[::, :-1]\n",
    "y = df.iloc[::, -1]"
   ]
  },
  {
   "cell_type": "code",
   "execution_count": 9,
   "id": "dcb53cb9",
   "metadata": {},
   "outputs": [],
   "source": [
    "x_train, x_test, y_train, y_test = train_test_split(x, y, test_size=0.3, random_state=1)"
   ]
  },
  {
   "cell_type": "code",
   "execution_count": 10,
   "id": "8fd188cc",
   "metadata": {},
   "outputs": [
    {
     "data": {
      "text/html": [
       "<style>#sk-container-id-1 {color: black;background-color: white;}#sk-container-id-1 pre{padding: 0;}#sk-container-id-1 div.sk-toggleable {background-color: white;}#sk-container-id-1 label.sk-toggleable__label {cursor: pointer;display: block;width: 100%;margin-bottom: 0;padding: 0.3em;box-sizing: border-box;text-align: center;}#sk-container-id-1 label.sk-toggleable__label-arrow:before {content: \"▸\";float: left;margin-right: 0.25em;color: #696969;}#sk-container-id-1 label.sk-toggleable__label-arrow:hover:before {color: black;}#sk-container-id-1 div.sk-estimator:hover label.sk-toggleable__label-arrow:before {color: black;}#sk-container-id-1 div.sk-toggleable__content {max-height: 0;max-width: 0;overflow: hidden;text-align: left;background-color: #f0f8ff;}#sk-container-id-1 div.sk-toggleable__content pre {margin: 0.2em;color: black;border-radius: 0.25em;background-color: #f0f8ff;}#sk-container-id-1 input.sk-toggleable__control:checked~div.sk-toggleable__content {max-height: 200px;max-width: 100%;overflow: auto;}#sk-container-id-1 input.sk-toggleable__control:checked~label.sk-toggleable__label-arrow:before {content: \"▾\";}#sk-container-id-1 div.sk-estimator input.sk-toggleable__control:checked~label.sk-toggleable__label {background-color: #d4ebff;}#sk-container-id-1 div.sk-label input.sk-toggleable__control:checked~label.sk-toggleable__label {background-color: #d4ebff;}#sk-container-id-1 input.sk-hidden--visually {border: 0;clip: rect(1px 1px 1px 1px);clip: rect(1px, 1px, 1px, 1px);height: 1px;margin: -1px;overflow: hidden;padding: 0;position: absolute;width: 1px;}#sk-container-id-1 div.sk-estimator {font-family: monospace;background-color: #f0f8ff;border: 1px dotted black;border-radius: 0.25em;box-sizing: border-box;margin-bottom: 0.5em;}#sk-container-id-1 div.sk-estimator:hover {background-color: #d4ebff;}#sk-container-id-1 div.sk-parallel-item::after {content: \"\";width: 100%;border-bottom: 1px solid gray;flex-grow: 1;}#sk-container-id-1 div.sk-label:hover label.sk-toggleable__label {background-color: #d4ebff;}#sk-container-id-1 div.sk-serial::before {content: \"\";position: absolute;border-left: 1px solid gray;box-sizing: border-box;top: 0;bottom: 0;left: 50%;z-index: 0;}#sk-container-id-1 div.sk-serial {display: flex;flex-direction: column;align-items: center;background-color: white;padding-right: 0.2em;padding-left: 0.2em;position: relative;}#sk-container-id-1 div.sk-item {position: relative;z-index: 1;}#sk-container-id-1 div.sk-parallel {display: flex;align-items: stretch;justify-content: center;background-color: white;position: relative;}#sk-container-id-1 div.sk-item::before, #sk-container-id-1 div.sk-parallel-item::before {content: \"\";position: absolute;border-left: 1px solid gray;box-sizing: border-box;top: 0;bottom: 0;left: 50%;z-index: -1;}#sk-container-id-1 div.sk-parallel-item {display: flex;flex-direction: column;z-index: 1;position: relative;background-color: white;}#sk-container-id-1 div.sk-parallel-item:first-child::after {align-self: flex-end;width: 50%;}#sk-container-id-1 div.sk-parallel-item:last-child::after {align-self: flex-start;width: 50%;}#sk-container-id-1 div.sk-parallel-item:only-child::after {width: 0;}#sk-container-id-1 div.sk-dashed-wrapped {border: 1px dashed gray;margin: 0 0.4em 0.5em 0.4em;box-sizing: border-box;padding-bottom: 0.4em;background-color: white;}#sk-container-id-1 div.sk-label label {font-family: monospace;font-weight: bold;display: inline-block;line-height: 1.2em;}#sk-container-id-1 div.sk-label-container {text-align: center;}#sk-container-id-1 div.sk-container {/* jupyter's `normalize.less` sets `[hidden] { display: none; }` but bootstrap.min.css set `[hidden] { display: none !important; }` so we also need the `!important` here to be able to override the default hidden behavior on the sphinx rendered scikit-learn.org. See: https://github.com/scikit-learn/scikit-learn/issues/21755 */display: inline-block !important;position: relative;}#sk-container-id-1 div.sk-text-repr-fallback {display: none;}</style><div id=\"sk-container-id-1\" class=\"sk-top-container\"><div class=\"sk-text-repr-fallback\"><pre>LinearDiscriminantAnalysis(n_components=2)</pre><b>In a Jupyter environment, please rerun this cell to show the HTML representation or trust the notebook. <br />On GitHub, the HTML representation is unable to render, please try loading this page with nbviewer.org.</b></div><div class=\"sk-container\" hidden><div class=\"sk-item\"><div class=\"sk-estimator sk-toggleable\"><input class=\"sk-toggleable__control sk-hidden--visually\" id=\"sk-estimator-id-1\" type=\"checkbox\" checked><label for=\"sk-estimator-id-1\" class=\"sk-toggleable__label sk-toggleable__label-arrow\">LinearDiscriminantAnalysis</label><div class=\"sk-toggleable__content\"><pre>LinearDiscriminantAnalysis(n_components=2)</pre></div></div></div></div></div>"
      ],
      "text/plain": [
       "LinearDiscriminantAnalysis(n_components=2)"
      ]
     },
     "execution_count": 10,
     "metadata": {},
     "output_type": "execute_result"
    }
   ],
   "source": [
    "model_d = LinearDiscriminantAnalysis(n_components=2)\n",
    "model_d.fit(x_train, y_train)"
   ]
  },
  {
   "cell_type": "code",
   "execution_count": 18,
   "id": "f691047f",
   "metadata": {},
   "outputs": [
    {
     "data": {
      "text/plain": [
       "array([0, 1, 1, 0, 2, 1, 2, 0, 0, 2, 1, 0, 2, 1, 1, 0, 1, 1, 0, 0, 1, 1,\n",
       "       1, 0, 2, 1, 0, 0, 1, 2, 1, 2, 1, 2, 2, 0, 1, 0, 1, 2, 2, 0, 2, 2,\n",
       "       1])"
      ]
     },
     "execution_count": 18,
     "metadata": {},
     "output_type": "execute_result"
    }
   ],
   "source": [
    "predict = model_d.predict(x_test)\n",
    "predict"
   ]
  },
  {
   "cell_type": "code",
   "execution_count": 15,
   "id": "629e7aa2",
   "metadata": {
    "scrolled": true
   },
   "outputs": [
    {
     "name": "stdout",
     "output_type": "stream",
     "text": [
      "score test;  1.0\n",
      "score train;  0.9714285714285714\n",
      "score true data:  0.98\n"
     ]
    }
   ],
   "source": [
    "print('score test; ', model_d.score(x_test, y_test))\n",
    "print('score train; ', model_d.score(x_train, y_train))\n",
    "print('score true data: ', model_d.score(x, y))"
   ]
  },
  {
   "cell_type": "markdown",
   "id": "6ae86ad0",
   "metadata": {},
   "source": [
    "-----------------"
   ]
  },
  {
   "cell_type": "code",
   "execution_count": 42,
   "id": "c8ebfe0f",
   "metadata": {},
   "outputs": [],
   "source": [
    "x = np.array(df.iloc[::, :-1])\n",
    "y = np.array(df.iloc[::, -1])"
   ]
  },
  {
   "cell_type": "code",
   "execution_count": 29,
   "id": "a73a9ea5",
   "metadata": {},
   "outputs": [
    {
     "data": {
      "text/plain": [
       "sepal length (cm)    5.843333\n",
       "sepal width (cm)     3.057333\n",
       "petal length (cm)    3.758000\n",
       "petal width (cm)     1.199333\n",
       "dtype: float64"
      ]
     },
     "execution_count": 29,
     "metadata": {},
     "output_type": "execute_result"
    }
   ],
   "source": [
    "classes = np.unique(y)\n",
    "\n",
    "# mean_vectors = df.groupby('target').mean().T\n",
    "\n",
    "# mean_vectors = np.mean(mean_vectors, axis=1)\n",
    "# mean_vectors"
   ]
  },
  {
   "cell_type": "code",
   "execution_count": 52,
   "id": "90285f74",
   "metadata": {},
   "outputs": [],
   "source": [
    "###### calculate mean values for each classes and overall means:\n",
    "\n",
    "mean_vectors2 = []\n",
    "\n",
    "for c in classes:\n",
    "    \n",
    "    mean_vectors2.append(np.mean(x[y == c], axis=0))\n",
    "    \n",
    "overall_mean = np.mean(x, axis=0)\n",
    "\n",
    "\n",
    "#### Calculate the intra-class scatter matrix:\n",
    "\n",
    "s_w = np.zeros((x.shape[1], x.shape[1]))\n",
    "\n",
    "for c, mv in zip(classes, mean_vectors2):\n",
    "    \n",
    "    class_scatter = np.zeros((x.shape[1], x.shape[1]))\n",
    "    \n",
    "    for row in x[y == c]:\n",
    "        \n",
    "        row, mv = row.reshape(-1, 1), mv.reshape(-1, 1)\n",
    "        class_scatter += (row - mv).dot((row - mv).T)\n",
    "        \n",
    "    s_w += class_scatter\n",
    "\n",
    "    \n",
    "#### Calculate the between-class scatter matrix:\n",
    "\n",
    "s_b = np.zeros((x.shape[1], x.shape[1]))\n",
    "\n",
    "for c, mv in zip(classes, mean_vectors2):\n",
    "    \n",
    "    n_c = x[y == c].shape[0]\n",
    "    \n",
    "    mv, overall_mean = mv.reshape(-1, 1), overall_mean.reshape(-1, 1)\n",
    "    \n",
    "    s_b += n_c * (mv - overall_mean).dot((mv - overall_mean).T)\n",
    "    \n",
    "    \n",
    "    \n",
    "###### We solve the problem of generalized eigenfactorization: S_W^-1 S_B:\n",
    "\n",
    "eigen_values, eigen_vectors = np.linalg.eig(np.linalg.inv(s_w).dot(s_b))\n",
    "\n",
    "\n",
    "###### Sort eigenvalues and select top components:\n",
    "\n",
    "eigen_pairs = [(np.abs(eigen_values[i]), eigen_vectors[:, i]) for i in range(len(eigen_values))]\n",
    "eigen_pairs = sorted(eigen_pairs, key=lambda k: k[0], reverse=True)\n",
    "\n",
    "\n",
    "\n",
    "###### We collect top components (for example, the first 2 for visualization)\n",
    "\n",
    "W = np.hstack((eigen_pairs[0][1].reshape(-1, 1), eigen_pairs[1][1].reshape(-1, 1)))\n",
    "\n",
    "\n",
    "##### Transform data\n",
    "\n",
    "x_lda = x.dot(W)"
   ]
  },
  {
   "cell_type": "code",
   "execution_count": 55,
   "id": "617eaf84",
   "metadata": {},
   "outputs": [
    {
     "data": {
      "image/png": "[encoded data removed]",
      "text/plain": [
       "<Figure size 800x600 with 1 Axes>"
      ]
     },
     "metadata": {},
     "output_type": "display_data"
    }
   ],
   "source": [
    "import matplotlib.pyplot as plt\n",
    "\n",
    "\n",
    "plt.figure(figsize=(8, 6))\n",
    "for c, label, color in zip(classes, datasets.load_iris().target_names, ['red', 'green', 'blue']):\n",
    "    plt.scatter(x_lda[y == c, 0], x_lda[y == c, 1], label=label, color=color)\n",
    "    \n",
    "plt.title(\"LDA (Dimensionality reduction to 2 components)\")\n",
    "plt.xlabel(\"Linear discriminant 1\")\n",
    "plt.ylabel(\"Linear discriminant 2\")\n",
    "plt.legend()\n",
    "plt.grid()\n",
    "plt.show()"
   ]
  },
  {
   "cell_type": "code",
   "execution_count": 29,
   "id": "4fe3883a",
   "metadata": {
    "scrolled": true
   },
   "outputs": [
    {
     "data": {
      "text/html": [
       "<div>\n",
       "<style scoped>\n",
       "    .dataframe tbody tr th:only-of-type {\n",
       "        vertical-align: middle;\n",
       "    }\n",
       "\n",
       "    .dataframe tbody tr th {\n",
       "        vertical-align: top;\n",
       "    }\n",
       "\n",
       "    .dataframe thead th {\n",
       "        text-align: right;\n",
       "    }\n",
       "</style>\n",
       "<table border=\"1\" class=\"dataframe\">\n",
       "  <thead>\n",
       "    <tr style=\"text-align: right;\">\n",
       "      <th></th>\n",
       "      <th>crp</th>\n",
       "      <th>temp</th>\n",
       "      <th>class</th>\n",
       "    </tr>\n",
       "  </thead>\n",
       "  <tbody>\n",
       "    <tr>\n",
       "      <th>0</th>\n",
       "      <td>40.0</td>\n",
       "      <td>36.0</td>\n",
       "      <td>0</td>\n",
       "    </tr>\n",
       "    <tr>\n",
       "      <th>1</th>\n",
       "      <td>11.1</td>\n",
       "      <td>37.2</td>\n",
       "      <td>0</td>\n",
       "    </tr>\n",
       "    <tr>\n",
       "      <th>2</th>\n",
       "      <td>30.0</td>\n",
       "      <td>36.5</td>\n",
       "      <td>0</td>\n",
       "    </tr>\n",
       "    <tr>\n",
       "      <th>3</th>\n",
       "      <td>21.4</td>\n",
       "      <td>39.4</td>\n",
       "      <td>0</td>\n",
       "    </tr>\n",
       "    <tr>\n",
       "      <th>4</th>\n",
       "      <td>10.7</td>\n",
       "      <td>39.6</td>\n",
       "      <td>0</td>\n",
       "    </tr>\n",
       "  </tbody>\n",
       "</table>\n",
       "</div>"
      ],
      "text/plain": [
       "    crp  temp  class\n",
       "0  40.0  36.0      0\n",
       "1  11.1  37.2      0\n",
       "2  30.0  36.5      0\n",
       "3  21.4  39.4      0\n",
       "4  10.7  39.6      0"
      ]
     },
     "execution_count": 29,
     "metadata": {},
     "output_type": "execute_result"
    }
   ],
   "source": [
    "import numpy as np\n",
    "import matplotlib.pyplot as plt\n",
    "import pandas as pd \n",
    "\n",
    "crp = np.array([40, 11.1, 30.0, 21.4, 10.7, 3.4, 42.0, 31.1, 50.0, 60.4, 45.7, 17.3])\n",
    "temp = np.array([36.0, 37.2, 36.5, 39.4, 39.6, 40.7, 37.6, 42.2, 38.5, 39.4, 38.6, 42.7])\n",
    "inf = np.array([0, 0, 0, 0, 0, 0, 1, 1, 1, 1, 1, 1])\n",
    "\n",
    "\n",
    "Scores = 0.11 * crp + 0.70 * temp \n",
    "\n",
    "Scores\n",
    "\n",
    "df = pd.DataFrame({'crp': crp, 'temp': temp, 'class': inf})\n",
    "df.head()"
   ]
  },
  {
   "cell_type": "code",
   "execution_count": 69,
   "id": "986429b3",
   "metadata": {},
   "outputs": [],
   "source": [
    "total = df.groupby('class').var()\n",
    "\n",
    "mean_var_bettwen_crp = (total.iloc[::, 0][0] + total.iloc[::, 0][1]) / 2"
   ]
  },
  {
   "cell_type": "code",
   "execution_count": 82,
   "id": "8ca2056d",
   "metadata": {},
   "outputs": [],
   "source": [
    "mean_var_bettwen_temp = (total.iloc[::, 1][0] + total.iloc[::, 1][1]) / 2"
   ]
  },
  {
   "cell_type": "code",
   "execution_count": 84,
   "id": "3daa692a",
   "metadata": {},
   "outputs": [
    {
     "data": {
      "text/html": [
       "<div>\n",
       "<style scoped>\n",
       "    .dataframe tbody tr th:only-of-type {\n",
       "        vertical-align: middle;\n",
       "    }\n",
       "\n",
       "    .dataframe tbody tr th {\n",
       "        vertical-align: top;\n",
       "    }\n",
       "\n",
       "    .dataframe thead th {\n",
       "        text-align: right;\n",
       "    }\n",
       "</style>\n",
       "<table border=\"1\" class=\"dataframe\">\n",
       "  <thead>\n",
       "    <tr style=\"text-align: right;\">\n",
       "      <th></th>\n",
       "      <th>crp</th>\n",
       "      <th>temp</th>\n",
       "    </tr>\n",
       "    <tr>\n",
       "      <th>class</th>\n",
       "      <th></th>\n",
       "      <th></th>\n",
       "    </tr>\n",
       "  </thead>\n",
       "  <tbody>\n",
       "    <tr>\n",
       "      <th>0</th>\n",
       "      <td>188.258667</td>\n",
       "      <td>3.674667</td>\n",
       "    </tr>\n",
       "    <tr>\n",
       "      <th>1</th>\n",
       "      <td>228.021667</td>\n",
       "      <td>4.458667</td>\n",
       "    </tr>\n",
       "  </tbody>\n",
       "</table>\n",
       "</div>"
      ],
      "text/plain": [
       "              crp      temp\n",
       "class                      \n",
       "0      188.258667  3.674667\n",
       "1      228.021667  4.458667"
      ]
     },
     "execution_count": 84,
     "metadata": {},
     "output_type": "execute_result"
    }
   ],
   "source": [
    "total"
   ]
  },
  {
   "cell_type": "code",
   "execution_count": 70,
   "id": "7be820f6",
   "metadata": {},
   "outputs": [],
   "source": [
    "crp_ = crp.mean()\n",
    "temp_ = temp.mean()"
   ]
  },
  {
   "cell_type": "code",
   "execution_count": 85,
   "id": "46563b0c",
   "metadata": {},
   "outputs": [],
   "source": [
    "z_crp = (crp - crp_) / mean_var_bettwen**0.5\n",
    "z_temp = (temp - temp_) / mean_var_bettwen_temp**0.5"
   ]
  },
  {
   "cell_type": "code",
   "execution_count": 86,
   "id": "1271587a",
   "metadata": {},
   "outputs": [
    {
     "data": {
      "text/plain": [
       "array([-1.5041836 , -0.90912196, -1.25624125,  0.18182439,  0.28100133,\n",
       "        0.82647451, -0.71076808,  1.57030156, -0.26447184,  0.18182439,\n",
       "       -0.21488337,  1.81824391])"
      ]
     },
     "execution_count": 86,
     "metadata": {},
     "output_type": "execute_result"
    }
   ],
   "source": [
    "z_temp"
   ]
  },
  {
   "cell_type": "code",
   "execution_count": 65,
   "id": "df369631",
   "metadata": {},
   "outputs": [
    {
     "data": {
      "text/plain": [
       "array([-1.05175, -3.39075, -1.80175, -0.71775, -1.75475, -1.78775,\n",
       "        0.28825,  2.30925,  1.79825,  3.57225,  1.39525,  1.14125])"
      ]
     },
     "execution_count": 65,
     "metadata": {},
     "output_type": "execute_result"
    }
   ],
   "source": [
    "cent_scores = 0.11 * (crp - crp_) + 0.70 * (temp - temp_)\n",
    "\n",
    "cent_scores"
   ]
  },
  {
   "cell_type": "code",
   "execution_count": 66,
   "id": "96b5d6e1",
   "metadata": {},
   "outputs": [],
   "source": [
    "z1 = (crp - crp_) / crp.std()\n",
    "\n",
    "z2 = (temp - temp_) / temp.std()"
   ]
  },
  {
   "cell_type": "code",
   "execution_count": 67,
   "id": "13dc2c9e",
   "metadata": {},
   "outputs": [
    {
     "data": {
      "text/plain": [
       "array([-0.47041466, -1.44495604, -0.78186268, -0.29906376, -0.73412116,\n",
       "       -0.73810837,  0.10851266,  1.00136724,  0.75274698,  1.50819737,\n",
       "        0.58387531,  0.51382711])"
      ]
     },
     "execution_count": 67,
     "metadata": {},
     "output_type": "execute_result"
    }
   ],
   "source": [
    "LDA = 0.79 * z1 + 0.61 * z2\n",
    "\n",
    "LDA"
   ]
  },
  {
   "cell_type": "code",
   "execution_count": 73,
   "id": "2cd85698",
   "metadata": {},
   "outputs": [
    {
     "data": {
      "text/plain": [
       "array([-0.66725093, -1.44638991, -0.90686213, -0.23922711, -0.61410896,\n",
       "       -0.52903729])"
      ]
     },
     "execution_count": 73,
     "metadata": {},
     "output_type": "execute_result"
    }
   ],
   "source": [
    "PCA = 0.71 * z1 + 0.71 * z2\n",
    "\n",
    "PCA[inf == 0]"
   ]
  },
  {
   "cell_type": "code",
   "execution_count": 74,
   "id": "34fbcb85",
   "metadata": {},
   "outputs": [
    {
     "data": {
      "text/plain": [
       "array([0.10851266, 1.00136724, 0.75274698, 1.50819737, 0.58387531,\n",
       "       0.51382711])"
      ]
     },
     "execution_count": 74,
     "metadata": {},
     "output_type": "execute_result"
    }
   ],
   "source": [
    "LDA[inf == 1]"
   ]
  },
  {
   "cell_type": "code",
   "execution_count": 79,
   "id": "4f0cde76",
   "metadata": {},
   "outputs": [
    {
     "data": {
      "text/plain": [
       "array([-2, -1,  0,  1])"
      ]
     },
     "execution_count": 79,
     "metadata": {},
     "output_type": "execute_result"
    }
   ],
   "source": [
    "np.arange(-2, 2)"
   ]
  },
  {
   "cell_type": "code",
   "execution_count": 82,
   "id": "6bf79833",
   "metadata": {},
   "outputs": [
    {
     "data": {
      "image/png": "[encoded data removed]",
      "text/plain": [
       "<Figure size 640x480 with 1 Axes>"
      ]
     },
     "metadata": {},
     "output_type": "display_data"
    }
   ],
   "source": [
    "plt.scatter(np.arange(-3, 3), PCA[inf == 0], c='y')\n",
    "plt.scatter(np.arange(-3, 3), PCA[inf == 1], c='r')\n",
    "plt.show()"
   ]
  },
  {
   "cell_type": "markdown",
   "id": "d52118e0",
   "metadata": {},
   "source": [
    "---------------"
   ]
  },
  {
   "cell_type": "code",
   "execution_count": 50,
   "id": "60c158ed",
   "metadata": {
    "scrolled": true
   },
   "outputs": [
    {
     "name": "stdout",
     "output_type": "stream",
     "text": [
      "Матрица разброса внутри классов (S_W):\n",
      " [[107.91336554 -10.20015486]\n",
      " [-10.20015486  78.08963274]]\n"
     ]
    }
   ],
   "source": [
    "import numpy as np\n",
    "from sklearn.datasets import make_classification\n",
    "\n",
    "# Генерируем данные (2 признака, 3 класса)\n",
    "X, y = make_classification(n_samples=150, n_features=2, n_classes=3, \n",
    "                           n_informative=2, n_redundant=0, random_state=42, n_clusters_per_class=1, n_repeated=0)\n",
    "\n",
    "# Вычисляем средние значения каждого класса\n",
    "classes = np.unique(y)\n",
    "mean_vectors = {c: np.mean(X[y == c], axis=0) for c in classes}\n",
    "\n",
    "# Вычисляем S_W\n",
    "S_W = np.zeros((2, 2))  # Матрица 2x2, так как у нас два признака\n",
    "for c in classes:\n",
    "    class_scatter = np.zeros((2, 2))  # Матрица разброса для одного класса\n",
    "    for row in X[y == c]:  # Для всех точек в классе\n",
    "        row = row.reshape(2, 1)  # Вектор-столбец\n",
    "        mean_vec = mean_vectors[c].reshape(2, 1)  # Среднее класса в виде столбца\n",
    "        class_scatter += (row - mean_vec).dot((row - mean_vec).T)  # Вычисляем (x - mu)(x - mu)^T\n",
    "    S_W += class_scatter  # Добавляем матрицу разброса класса к общей S_W\n",
    "\n",
    "print(\"Матрица разброса внутри классов (S_W):\\n\", S_W)"
   ]
  },
  {
   "cell_type": "code",
   "execution_count": 21,
   "id": "f9f0d58a",
   "metadata": {},
   "outputs": [
    {
     "name": "stdout",
     "output_type": "stream",
     "text": [
      "Матрица разброса между классами (S_B):\n",
      " [[633.33333333 633.33333333]\n",
      " [633.33333333 633.33333333]]\n"
     ]
    }
   ],
   "source": [
    "import numpy as np\n",
    "\n",
    "# Допустим, у нас есть 3 класса с такими средними значениями:\n",
    "mean_vectors = {\n",
    "    0: np.array([2.0, 3.0]),  # Среднее для класса 0\n",
    "    1: np.array([5.0, 6.0]),  # Среднее для класса 1\n",
    "    2: np.array([7.0, 8.0])   # Среднее для класса 2\n",
    "}\n",
    "\n",
    "# Общее среднее (вектор)\n",
    "overall_mean = np.mean(list(mean_vectors.values()), axis=0)\n",
    "\n",
    "# Количество точек в каждом классе (например, 50 в каждом классе)\n",
    "class_counts = {0: 50, 1: 50, 2: 50}\n",
    "\n",
    "# Вычисляем S_B\n",
    "S_B = np.zeros((2, 2))  # Матрица 2x2, потому что у нас два признака (x1 и x2)\n",
    "for c, mean_vec in mean_vectors.items():\n",
    "    mean_vec = mean_vec.reshape(2, 1)  # Делаем вектор-столбец\n",
    "    overall_mean = overall_mean.reshape(2, 1)\n",
    "    S_B += class_counts[c] * (mean_vec - overall_mean).dot((mean_vec - overall_mean).T)\n",
    "\n",
    "print(\"Матрица разброса между классами (S_B):\\n\", S_B)\n"
   ]
  },
  {
   "cell_type": "markdown",
   "id": "563995c1",
   "metadata": {},
   "source": [
    "--------------"
   ]
  },
  {
   "cell_type": "code",
   "execution_count": 39,
   "id": "5f51e8a3",
   "metadata": {},
   "outputs": [
    {
     "name": "stdout",
     "output_type": "stream",
     "text": [
      "Accuracy: 0.89\n"
     ]
    }
   ],
   "source": [
    "classes = np.unique(y)\n",
    "mean_vectors = {c: np.mean(X[y == c], axis=0) for c in classes}\n",
    "\n",
    "## Calculate the total covariance matrix\n",
    "\n",
    "S_W = np.cov(X.T)\n",
    "\n",
    "## Invert the covariance matrix\n",
    "\n",
    "S_W_inv = np.linalg.inv(S_W)\n",
    "\n",
    "## Calculate the a priori probabilities of classes\n",
    "\n",
    "priors = {c: np.mean(y == c) for c in classes}\n",
    "\n",
    "## Fuction to predict class\n",
    "\n",
    "def lda_predict(x_new):\n",
    "    scores = []\n",
    "    for c in classes:\n",
    "        # Discriminant function (without logarithm of probability for simplicity)\n",
    "        delta = x_new @ S_W_inv @ mean_vectors[c] - 0.5 * mean_vectors[c] @ S_W_inv @ mean_vectors[c] + np.log(priors[c])\n",
    "        scores.append(delta)\n",
    "    \n",
    "    return np.argmax(scores, axis=0) ## We select the class with the maximum value of the discriminant function\n",
    "\n",
    "\n",
    "## make predict\n",
    "\n",
    "y_pred = np.array([lda_predict(x) for x in X])\n",
    "\n",
    "## estimates quality\n",
    "\n",
    "accuracy = np.mean(y_pred == y)\n",
    "\n",
    "print(f'Accuracy: {accuracy:.2f}')"
   ]
  },
  {
   "cell_type": "markdown",
   "id": "325d135f",
   "metadata": {},
   "source": [
    "-----"
   ]
  },
  {
   "cell_type": "code",
   "execution_count": 14,
   "id": "738130cd",
   "metadata": {},
   "outputs": [
    {
     "data": {
      "image/png": "[encoded data removed]",
      "text/plain": [
       "<Figure size 640x480 with 1 Axes>"
      ]
     },
     "metadata": {},
     "output_type": "display_data"
    }
   ],
   "source": [
    "import numpy as np\n",
    "import matplotlib.pyplot as plt\n",
    "from sklearn.datasets import make_classification\n",
    "\n",
    "# 1️⃣ Генерируем данные\n",
    "X, y = make_classification(n_samples=100, n_features=2,\n",
    "                           n_classes=2, n_informative=2,\n",
    "                           random_state=42, n_redundant=0,\n",
    "                           n_repeated=0, n_clusters_per_class=1)\n",
    "\n",
    "# 2️⃣ Находим средние классов\n",
    "mu_1 = np.mean(X[y == 0], axis=0)\n",
    "mu_2 = np.mean(X[y == 1], axis=0)\n",
    "\n",
    "# 3️⃣ Вычисляем S_W\n",
    "S_W = np.cov(X[y == 0].T) + np.cov(X[y == 1].T)\n",
    "\n",
    "# 4️⃣ Находим W\n",
    "W = np.linalg.inv(S_W) @ (mu_2 - mu_1)\n",
    "\n",
    "# 5️⃣ Вычисляем b\n",
    "b = -0.5 * (mu_1 + mu_2).T @ W\n",
    "\n",
    "# 6️⃣ Визуализируем\n",
    "plt.scatter(X[y == 0][:, 0], X[y == 0][:, 1], color='blue', label=\"Класс 0\")\n",
    "plt.scatter(X[y == 1][:, 0], X[y == 1][:, 1], color='red', label=\"Класс 1\")\n",
    "\n",
    "# 7️⃣ Линия разделения\n",
    "x_line = np.linspace(X[:, 0].min(), X[:, 0].max(), 100)\n",
    "y_line = (-W[0] * x_line - b) / W[1]\n",
    "plt.plot(x_line, y_line, color='black', label=\"Граница LDA\")\n",
    "\n",
    "plt.legend()\n",
    "plt.xlabel(\"Признак 1\")\n",
    "plt.ylabel(\"Признак 2\")\n",
    "plt.title(\"Линейный дискриминантный анализ (LDA)\")\n",
    "plt.show()\n"
   ]
  },
  {
   "cell_type": "markdown",
   "id": "1b37a51c",
   "metadata": {},
   "source": [
    "----------"
   ]
  },
  {
   "cell_type": "code",
   "execution_count": 2,
   "id": "0151a1a2",
   "metadata": {},
   "outputs": [
    {
     "data": {
      "image/png": "[encoded data removed]",
      "text/plain": [
       "<Figure size 500x500 with 1 Axes>"
      ]
     },
     "metadata": {},
     "output_type": "display_data"
    }
   ],
   "source": [
    "import matplotlib.pyplot as plt\n",
    "import seaborn as sns\n",
    "import numpy as np\n",
    "import pandas as pd\n",
    "from sklearn.datasets import make_classification, make_blobs\n",
    "import scipy as sc\n",
    "from sklearn.preprocessing import LabelEncoder\n",
    "from sklearn.model_selection import train_test_split\n",
    "from sklearn.discriminant_analysis import LinearDiscriminantAnalysis\n",
    "from sklearn.linear_model import LogisticRegression\n",
    "from mlxtend.plotting import plot_decision_regions\n",
    "\n",
    "np.random.seed(1)\n",
    "x, y = make_blobs(n_samples=[11, 5, 17], n_features=2, random_state=42)\n",
    "\n",
    "df = pd.DataFrame(x, columns=['feature_0', 'feature_0'])\n",
    "df['class'] = y\n",
    "\n",
    "plt.figure(figsize=(5, 5))\n",
    "plt.scatter(x[:, 0], x[:, 1], c=y)\n",
    "plt.show()"
   ]
  },
  {
   "cell_type": "code",
   "execution_count": 42,
   "id": "f71d218f",
   "metadata": {},
   "outputs": [
    {
     "data": {
      "text/plain": [
       "Index([], dtype='object')"
      ]
     },
     "execution_count": 42,
     "metadata": {},
     "output_type": "execute_result"
    }
   ],
   "source": [
    "df.select_dtypes(include=['object']).columns"
   ]
  },
  {
   "cell_type": "code",
   "execution_count": 1,
   "id": "ae042af2",
   "metadata": {},
   "outputs": [],
   "source": [
    "class LDA:\n",
    "    \n",
    "    def __init__(self, n_components=None):\n",
    "        \n",
    "        self.n_components = n_components\n",
    "        \n",
    "    def fit(self, X, y):\n",
    "        \n",
    "        n_samples, n_features = X.shape\n",
    "        classes, cls_couts = np.unique(y, return_counts=True)\n",
    "        priors = cls_couts / n_samples\n",
    "        \n",
    "        X_cls_mean = np.array([X[y == cls].mean(axis=0) for cls in classes])\n",
    "        between_cls_deviation = X_cls_mean - X.mean(axis=0)\n",
    "        with_cls_deviation = X - X_cls_mean[y]\n",
    "        \n",
    "        Sb = priors * between_cls_deviation.T @ between_cls_deviation\n",
    "        Sw = with_cls_deviation.T @ with_cls_deviation / n_samples\n",
    "        evals, evecs = np.linalg.eig(Sb, Sw)\n",
    "        \n",
    "        self.dvecs = evecs[:, np.argsort(evals)[::-1]]\n",
    "        \n",
    "        self.weights = X_cls_mean @ self.dvecs @ self.dvecs.T\n",
    "        self.bias = np.log(priors) - 0.5 * np.diag(X_cls_mean @ self.weights.T)\n",
    "        \n",
    "        if self.n_components is None:\n",
    "            self.n_components = min(classes.size - 1, n_features)\n",
    "            \n",
    "    def transform(self, X):\n",
    "        return X @ self.dvecs[:, : self.n_components]\n",
    "    \n",
    "    \n",
    "    def predict(self, X_test):\n",
    "        scores = X_test @ self.weights.T + self.bias\n",
    "        \n",
    "        return np.argmax(scores, axis=1)\n",
    "        "
   ]
  },
  {
   "cell_type": "code",
   "execution_count": null,
   "id": "56502251",
   "metadata": {},
   "outputs": [],
   "source": []
  }
 ],
 "metadata": {
  "kernelspec": {
   "display_name": "Python 3 (ipykernel)",
   "language": "python",
   "name": "python3"
  },
  "language_info": {
   "codemirror_mode": {
    "name": "ipython",
    "version": 3
   },
   "file_extension": ".py",
   "mimetype": "text/x-python",
   "name": "python",
   "nbconvert_exporter": "python",
   "pygments_lexer": "ipython3",
   "version": "3.10.8"
  }
 },
 "nbformat": 4,
 "nbformat_minor": 5
}
