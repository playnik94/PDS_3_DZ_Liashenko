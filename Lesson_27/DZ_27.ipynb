{
 "cells": [
  {
   "cell_type": "markdown",
   "id": "e882c035",
   "metadata": {},
   "source": [
    "### Задача номер 1.\n",
    "\n",
    "$ n = 10,000   $\n",
    "\n",
    "$ p = 0,0007 $\n",
    "\n",
    "$ I = n * P = 10,000 * 0,0007 = 7$\n",
    "\n",
    "$ \\sigma = \\sqrt{\\lambda} = 2,645  \\sigma^2 = 6,999$\n"
   ]
  },
  {
   "cell_type": "markdown",
   "id": "2706316f",
   "metadata": {},
   "source": [
    "\n",
    "### Задача номер 2.\n",
    "\n",
    "$ n = 10,000 $\n",
    "\n",
    "$ p = 0,99 $\n",
    "\n",
    "$ x = 10,000 $\n",
    "\n",
    "$ q = 0,01 $\n",
    "\n",
    "$ u = np = 10,000 * 0,99 = 9,900 $\n",
    "\n",
    "$ \\sigma^2 = npq = 10,000 * 0,99 * 0,01 = 99 $\n",
    "\n",
    "$ \\sigma = \\sqrt{npq} = \\sqrt{99} = 9,94 $\n"
   ]
  },
  {
   "cell_type": "code",
   "execution_count": null,
   "id": "2deca841",
   "metadata": {},
   "outputs": [],
   "source": []
  }
 ],
 "metadata": {
  "kernelspec": {
   "display_name": "Python 3 (ipykernel)",
   "language": "python",
   "name": "python3"
  },
  "language_info": {
   "codemirror_mode": {
    "name": "ipython",
    "version": 3
   },
   "file_extension": ".py",
   "mimetype": "text/x-python",
   "name": "python",
   "nbconvert_exporter": "python",
   "pygments_lexer": "ipython3",
   "version": "3.10.8"
  }
 },
 "nbformat": 4,
 "nbformat_minor": 5
}
