{
 "cells": [
  {
   "cell_type": "markdown",
   "id": "c6090866",
   "metadata": {},
   "source": [
    "### Задача номер 1.\n",
    "\n",
    "| x | 1 |   |\n",
    "|:--|---|--:|\n",
    "| p |0,9|0,9|\n",
    "|:--|---|--:|\n",
    "|Xp |0,9|0,9|\n",
    "|:--|---|--:|\n",
    "|Xp2|0,9|0,9|\n",
    "\n",
    "M(x) 0,9\n",
    "\n",
    "$D(x) = M(x)^2 - (M(x))^2 = 0,9 - 0,81 = 0,09$\n",
    "\n",
    "Xmp n = 10\n",
    "\n",
    "$M(x) = a = 0,9 * 10 = 9$\n",
    "\n",
    "$D(x) = g^2 = 0,09 * 10 = 9$\n",
    "\n",
    "$G = \\sqrt{9}^2 = 3$\n",
    "\n",
    "$p(x > 85) = (85<x<∞)$"
   ]
  },
  {
   "cell_type": "markdown",
   "id": "54af3519",
   "metadata": {},
   "source": [
    "### Задача номер 2.\n",
    "\n",
    "| Xi| n | Wi  |\n",
    "|:--|---|----:|\n",
    "| 7 | 3 |0,075|\n",
    "|:--|---|----:|\n",
    "| 8 | 6 |0,15 |\n",
    "|:--|---|----:|\n",
    "| 9 | 7 |0,2  |\n",
    "|:--|---|----:|\n",
    "|10 | 8 |0,125|\n",
    "|:--|---|----:|\n",
    "|11 | 5 |0,15 |\n",
    "|:--|---|----:|\n",
    "|12 | 6 |0,125|\n",
    "|:--|---|----:|\n",
    "|13 | 2 |0,325|\n",
    "|:--|---|----:|\n",
    "|14 | 2 |0,35 |\n",
    "|:--|---|----:|"
   ]
  },
  {
   "cell_type": "markdown",
   "id": "817c09d6",
   "metadata": {},
   "source": [
    "$ n = 3 + 6 + 8 + 5 + 6 + 5 + 2 + 2 = 37$\n",
    "\n",
    "$ F37 = (x \\leq 7 ) = \\frac{0}{37} = 0 $\n"
   ]
  },
  {
   "cell_type": "markdown",
   "id": "e200e539",
   "metadata": {},
   "source": [
    "$ F37 = ( 7 < x \\leq 8) = \\frac{0 + 4}{37} = 0,108$\n",
    "\n",
    "$ F37 = ( 8 < x \\leq 9) = \\frac{3 + 6}{37} = 0,243$\n",
    "\n",
    "$  F37 = ( 9 < x \\leq 10) = \\frac{3 + 6 + 8}{37} = 9,2$\n",
    "\n",
    "$ F37 = ( 10 < x \\leq 11) = \\frac{3 + 6 + 8 + 5}{37} = 17,1$\n",
    "\n",
    "$ F37 = ( 11 < x \\leq 12) = \\frac{3 + 6 + 8 + 5 + 6}{37} = 22,1 $\n",
    "\n",
    "$ F37 = ( 12 < x \\leq 13) = \\frac{3 + 6 + 8 + 5 + 6 + 5}{37} = 28,1$\n",
    "\n",
    "$ F37 = ( 13 < x \\leq 14) = \\frac{3 + 6 + 8 + 5 + 6 + 5 + 2}{37} = 33,05$\n",
    "\n",
    "$ F37 = ( x > M) = \\frac{3 + 6 + 8 + 5 + 6 + 5 + 2 + 2}{37} = 1$"
   ]
  },
  {
   "cell_type": "markdown",
   "id": "7979cf64",
   "metadata": {},
   "source": [
    "\n",
    "\n",
    "$$           0.  при X \\leq 7 $$\n",
    "$$           0,10.  при 7 < X \\leq 8 $$\n",
    "$$           0,24.  при 8 < X \\leq 9 $$\n",
    "$$           9,2.  при 9 < X \\leq 10 $$\n",
    "$Fn(X) = $ \n",
    "$$           17,1.  при 10 < X \\leq 11$$\n",
    "$$           22,1.  при 11 < X \\leq 12$$\n",
    "$$           28,1.  при 12 < X \\leq 13$$\n",
    "$$           33,05.  при 13 < X \\leq 14$$\n",
    "$$           1.  при X > 14 $$"
   ]
  },
  {
   "cell_type": "markdown",
   "id": "432d62e7",
   "metadata": {},
   "source": [
    "\n",
    "$ W \\frac{3}{40} = 0,075 $      \n",
    "\n",
    "$ W \\frac{6}{40} = 0,15 $        \n",
    "\n",
    "$ W \\frac{8}{40} = 0,2  $      \n",
    "         \n",
    "$ W \\frac{5}{40} = 0,125 $       \n",
    "\n",
    "$ W = \\frac{6}{40} = 0,15 $\n",
    "\n",
    "$ W = \\frac{5}{40} = 0,125 $\n",
    "\n",
    "$ W = \\frac{13}{40} = 0,325$\n",
    "\n",
    "$ W = \\frac{14}{40} = 0,35 $\n",
    "\n",
    "$ W + W1 + W2 ... = 1,5 $\n"
   ]
  },
  {
   "cell_type": "markdown",
   "id": "92c970d9",
   "metadata": {},
   "source": [
    "$ Медиана M = \\frac{n1}{2} = \\frac{37}{2} = 18,5 $ "
   ]
  },
  {
   "cell_type": "markdown",
   "id": "90106983",
   "metadata": {},
   "source": [
    "$ Мода M* 6,5,2 $"
   ]
  },
  {
   "cell_type": "code",
   "execution_count": null,
   "id": "c53eacbd",
   "metadata": {},
   "outputs": [],
   "source": []
  }
 ],
 "metadata": {
  "kernelspec": {
   "display_name": "Python 3 (ipykernel)",
   "language": "python",
   "name": "python3"
  },
  "language_info": {
   "codemirror_mode": {
    "name": "ipython",
    "version": 3
   },
   "file_extension": ".py",
   "mimetype": "text/x-python",
   "name": "python",
   "nbconvert_exporter": "python",
   "pygments_lexer": "ipython3",
   "version": "3.10.8"
  }
 },
 "nbformat": 4,
 "nbformat_minor": 5
}
