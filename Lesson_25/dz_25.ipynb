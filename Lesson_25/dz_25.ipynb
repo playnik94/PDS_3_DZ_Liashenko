{
 "cells": [
  {
   "cell_type": "markdown",
   "id": "5a052bbb",
   "metadata": {},
   "source": [
    "### Задача номер 1.\n"
   ]
  },
  {
   "cell_type": "markdown",
   "id": "85e274c5",
   "metadata": {},
   "source": [
    "|    |       |      |    |\n",
    "|:---|:-----:|:----:|---:|     \n",
    "|  X |       | Y    | Pxi|\n",
    "|:-- |:-----:|:----:|---:|\n",
    "|    |   1   |  2   |    |\n",
    "|:-- |:-----:|:----:|---:|\n",
    "| 1  |   0   |  1   |  1 |\n",
    "|:-- |:-----:|:----:|---:|\n",
    "| 2  |   1   |  1   |  2 |\n",
    "|:-- |:-----:|:----:|---:|\n",
    "| 3  |   0   |  1   |  1 |\n",
    "|:-- |:-----:|:----:|---:|\n",
    "| Pi |   1   |  3   |    |"
   ]
  },
  {
   "cell_type": "markdown",
   "id": "b1483ce6",
   "metadata": {},
   "source": [
    "M(X) =$1 * 1 + 2 * 2 + 3 * 1 = 8$\n",
    "\n",
    "M(Y) =$1 * 1 + 2 * 3 = 7$\n",
    "\n",
    "\n",
    "D(X) = $1^2 * 1 + 2^2 * 2 + 3^2 * 1 = 17$\n",
    "\n",
    "D(Y) = $1^2 * 1 + 2^2 * 3 = 13$\n",
    "\n",
    "\n",
    "M(XY) =$1 * 1 * 0 + 2 * 1 * 0 + 1 * 2 * 1 + 2 * 2 * 1 + 2 * 2 * 1 + 2 * 3 * 0 + 2 * 3 * 1 = 19$\n",
    "\n"
   ]
  },
  {
   "cell_type": "markdown",
   "id": "0e4d1b14",
   "metadata": {},
   "source": [
    "\n",
    "Cov =$ 19 - 8 * 7 = - 37$\n",
    "\n",
    "\n",
    "G $\\sqrt{17}=4,1 $\n",
    "\n",
    "\n",
    "G $\\sqrt{13}=3,6 $\n"
   ]
  },
  {
   "cell_type": "markdown",
   "id": "e37da4d4",
   "metadata": {},
   "source": [
    "r(xy) = $ \\frac{cov}{G(x)*G(Y)} = \\frac{-37}{4,1 * 3,6} = 32,48$\n"
   ]
  },
  {
   "cell_type": "markdown",
   "id": "9ea842fa",
   "metadata": {},
   "source": [
    "### Задача номер 2.\n",
    "\n",
    "M(Y) =$ 20 * 0,1 + 10 * 0,3 + 2 * 0,2 +- 2 * 0,3 - 8 * 0,1 = 4$\n",
    "\n",
    "M(X) =$ 10 * 0,1 + 5 * 0,3 + 2 * 0,2 + 1 * 0,3 +- 5 * 0,1 = 2,7$\n",
    "\n",
    "\n",
    "D(Y) =$ 20^2 * 0,1 + 10^2 * 0,3 + 2^2 * 0,2 +- 2^2 * 0,3 - 8^2 * 0,1 = 33,2$\n",
    "\n",
    "D(X) =$ 10^2 * 0,1 + 5^2 * 0,3 + 2^2 * 0,2 + 1^2 * 0,3 +- 5^2 * 0,1 = 16,1$"
   ]
  },
  {
   "cell_type": "markdown",
   "id": "5ca129c6",
   "metadata": {},
   "source": [
    "\n",
    "G $\\sqrt{33,2}=5,76 $\n",
    "\n",
    "G $\\sqrt{16,1}=4,01 $\n",
    "\n",
    "\n"
   ]
  },
  {
   "cell_type": "markdown",
   "id": "d0f203c5",
   "metadata": {},
   "source": [
    "M(XY) =$ 10 * 20 * 0,01 + 5 * 20 * 0,03 + 2 * 20 * 0,2 + 1 * 20 * 0,03 +- 5 * 20 * 0,01 + 10 * 10 * 0,03 + 5 * 10 * 0,09 + 2 * 10 *0,06 + 1 * 10 * 0,09 +- 5 * 10 * 0,03 - 10 * 2 * 0,02 + 5 * 2 * 0,06 + 2 * 2 * 0,04 + 1 * 2 * 0,06 +- 5 * 2 * 0,02 + 10 *\n",
    "-2 * 0,03 + 5 *- 2 * 0,09 + 2 *- 2 * 0,06 + 1 * -2 * 0,09 +- 5 *-2 *-2 * 0,03 +- 5 *-8 * 0,03 +- 5 * -8 * 0,01 =-4,62$"
   ]
  },
  {
   "cell_type": "markdown",
   "id": "48a8a247",
   "metadata": {},
   "source": [
    "\n",
    "Cov =$ - 4,62 - 4 * 2,7 =- 15,42$\n",
    "\n",
    "r(xy) = $ \\frac{-15,42}{G(5,76)*G(4,01)}$"
   ]
  },
  {
   "cell_type": "code",
   "execution_count": null,
   "id": "40edae7b",
   "metadata": {},
   "outputs": [],
   "source": []
  }
 ],
 "metadata": {
  "kernelspec": {
   "display_name": "Python 3 (ipykernel)",
   "language": "python",
   "name": "python3"
  },
  "language_info": {
   "codemirror_mode": {
    "name": "ipython",
    "version": 3
   },
   "file_extension": ".py",
   "mimetype": "text/x-python",
   "name": "python",
   "nbconvert_exporter": "python",
   "pygments_lexer": "ipython3",
   "version": "3.10.8"
  }
 },
 "nbformat": 4,
 "nbformat_minor": 5
}
