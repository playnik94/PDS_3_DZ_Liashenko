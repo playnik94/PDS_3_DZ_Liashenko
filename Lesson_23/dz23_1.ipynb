{
 "cells": [
  {
   "cell_type": "markdown",
   "id": "cede4873",
   "metadata": {},
   "source": [
    "### Задача номер 1\n",
    "\n",
    "P(A) =$ \\frac{P(A,B)}{P(B)}=\\frac{7}{2} = 3,5$"
   ]
  },
  {
   "cell_type": "markdown",
   "id": "fb6ecbce",
   "metadata": {},
   "source": [
    "### Задача номер 2\n",
    "A = S1 - 095 S2 = - 09\n",
    "   \n",
    "A = S1 * S2 = 0,05 * 0,1 = 0,905\n",
    "  \n",
    "P(B) = 1-(^B) = 1 - 0,905 = 0,095\n",
    "\n",
    "### Задача номер 3\n",
    "\n",
    "K1 = P(A) =$ \\frac{p(A,B)}{P(A)} = \\frac{60}{100} = 0,6 * 2 = 1,2$\n",
    "\n",
    "K2 = P(B) =$ \\frac{p(A,B)}{p(B)} = \\frac{84}{100} = 0,84 - 1,2 = 0,36$"
   ]
  },
  {
   "cell_type": "code",
   "execution_count": null,
   "id": "743ae4e4",
   "metadata": {},
   "outputs": [],
   "source": []
  }
 ],
 "metadata": {
  "kernelspec": {
   "display_name": "Python 3 (ipykernel)",
   "language": "python",
   "name": "python3"
  },
  "language_info": {
   "codemirror_mode": {
    "name": "ipython",
    "version": 3
   },
   "file_extension": ".py",
   "mimetype": "text/x-python",
   "name": "python",
   "nbconvert_exporter": "python",
   "pygments_lexer": "ipython3",
   "version": "3.10.8"
  }
 },
 "nbformat": 4,
 "nbformat_minor": 5
}
