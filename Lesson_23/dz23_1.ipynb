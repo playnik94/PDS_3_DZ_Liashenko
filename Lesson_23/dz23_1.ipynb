{
 "cells": [
  {
   "cell_type": "markdown",
   "id": "cede4873",
   "metadata": {},
   "source": [
    "### Задача номер 1\n",
    "\n",
    "P(A) =$ \\frac{P(A,B)}{P(B)}=\\frac{7}{2} = 3,5$"
   ]
  },
  {
   "cell_type": "code",
   "execution_count": null,
   "id": "89c28b5b",
   "metadata": {},
   "outputs": [],
   "source": [
    "###"
   ]
  }
 ],
 "metadata": {
  "kernelspec": {
   "display_name": "Python 3 (ipykernel)",
   "language": "python",
   "name": "python3"
  },
  "language_info": {
   "codemirror_mode": {
    "name": "ipython",
    "version": 3
   },
   "file_extension": ".py",
   "mimetype": "text/x-python",
   "name": "python",
   "nbconvert_exporter": "python",
   "pygments_lexer": "ipython3",
   "version": "3.10.8"
  }
 },
 "nbformat": 4,
 "nbformat_minor": 5
}
