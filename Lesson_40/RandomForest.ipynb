{
 "cells": [
  {
   "cell_type": "code",
   "execution_count": 1,
   "id": "bfc822b7",
   "metadata": {},
   "outputs": [],
   "source": [
    "import numpy as np\n",
    "from sklearn.datasets import make_classification\n",
    "from sklearn.tree import DecisionTreeClassifier\n",
    "from sklearn import metrics\n",
    "from collections import Counter\n",
    "\n",
    "class RandomForestClassifierTrain:\n",
    "    \n",
    "    def __init__(self, n_trees=None, randon_state=None):\n",
    "        self.n_trees = n_trees\n",
    "        self.randon_state = randon_state\n",
    "        self.n_samples = X.shape[0]\n",
    "        \n",
    "    def bootstrap_sample(self, X, Y):\n",
    "        n_samples = X.shape[0]\n",
    "        indices = np.random.choice(n_samples, size=n_samples, replace=True)\n",
    "        return X[indices], Y[indices]\n",
    "    \n",
    "    def majority_vote(predictions):\n",
    "        vote_counts = Counter(predictions)\n",
    "        return vote_counts.most_common(1)[0][0]\n",
    "    \n",
    "    def fit(self, X, Y):\n",
    "        self.trees = list()\n",
    "        \n",
    "        np.random.seed(self.random_state)\n",
    "        \n",
    "        for _ in range(self.n_trees):\n",
    "            X_sample, y_sample = self.bootstrap_sample(X, Y)\n",
    "            \n",
    "            tree = DecisionTreeClassifier(max_features='sqrt')\n",
    "            tree.fit(X_sample, y_sample)\n",
    "            self.trees.append(tree)\n",
    "            \n",
    "    def predict(self, X):\n",
    "        \n",
    "        y_pred = np.zeros(self.n_samples, self.n_trees)\n",
    "        \n",
    "        for i, tree in enumerate(self.trees):\n",
    "            y_pred[:, i] = tree.predict(X)\n",
    "        \n",
    "        final = np.apply_along_axis(self.majority_vote, axis=1, arr=y_pred)\n",
    "        return final\n",
    "    \n",
    "        "
   ]
  },
  {
   "cell_type": "code",
   "execution_count": null,
   "id": "0f188c6a",
   "metadata": {},
   "outputs": [],
   "source": []
  }
 ],
 "metadata": {
  "kernelspec": {
   "display_name": "Python 3 (ipykernel)",
   "language": "python",
   "name": "python3"
  },
  "language_info": {
   "codemirror_mode": {
    "name": "ipython",
    "version": 3
   },
   "file_extension": ".py",
   "mimetype": "text/x-python",
   "name": "python",
   "nbconvert_exporter": "python",
   "pygments_lexer": "ipython3",
   "version": "3.10.8"
  }
 },
 "nbformat": 4,
 "nbformat_minor": 5
}
