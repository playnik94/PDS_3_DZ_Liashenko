{
 "cells": [
  {
   "cell_type": "code",
   "execution_count": 1,
   "id": "5471b044",
   "metadata": {},
   "outputs": [],
   "source": [
    "import pandas as pd\n",
    "import numpy as np\n",
    "from sklearn.tree import DecisionTreeRegressor\n",
    "from sklearn import metrics\n",
    "from sklearn.datasets import make_regression"
   ]
  },
  {
   "cell_type": "code",
   "execution_count": 2,
   "id": "b8d42f4f",
   "metadata": {},
   "outputs": [
    {
     "data": {
      "text/plain": [
       "array([[-0.59467865,  1.17659713],\n",
       "       [-1.57659187, -0.82005132],\n",
       "       [ 0.86870669, -0.51945701],\n",
       "       [-0.79228551,  1.80592856],\n",
       "       [-2.02687943, -2.25812447],\n",
       "       [ 0.0862256 ,  0.68765017],\n",
       "       [-0.0748271 , -0.03159647],\n",
       "       [-0.66395571, -0.1534205 ],\n",
       "       [-1.43970949, -1.04534703],\n",
       "       [ 0.50257497, -0.79198512]])"
      ]
     },
     "metadata": {},
     "output_type": "display_data"
    },
    {
     "data": {
      "text/plain": [
       "array([   7.1032028 , -112.84950864,   29.82896272,   16.90170315,\n",
       "       -184.59266395,   27.12121091,   -5.14832141,  -40.77685989,\n",
       "       -112.96968328,    1.53681215])"
      ]
     },
     "metadata": {},
     "output_type": "display_data"
    }
   ],
   "source": [
    "x, y = make_regression(n_samples=10, n_features=2, n_informative=2, noise=0.35)\n",
    "\n",
    "display(x, y)"
   ]
  },
  {
   "cell_type": "code",
   "execution_count": 21,
   "id": "b723727c",
   "metadata": {},
   "outputs": [
    {
     "name": "stdout",
     "output_type": "stream",
     "text": [
      "mae: 1.8170539599996887\n"
     ]
    }
   ],
   "source": [
    "class Gradient_boosting_regressor:\n",
    "    \n",
    "    def __init__(self, n_estimators=100, learning_rate=0.1, max_depth=3):\n",
    "        self.n_estimators = n_estimators\n",
    "        self.learning_rate = learning_rate\n",
    "        self.max_depth = max_depth\n",
    "        self.models = []\n",
    "        self.inital_value = None\n",
    "        \n",
    "    def fit(self, x, y):\n",
    "        self.inital_value = np.mean(y)\n",
    "        residuals = y - self.inital_value\n",
    "        \n",
    "        for i in range(self.n_estimators):\n",
    "            \n",
    "            tree = DecisionTreeRegressor(max_depth=self.max_depth)\n",
    "            tree.fit(x, residuals)\n",
    "            self.models.append(tree)\n",
    "            \n",
    "            predictions = tree.predict(x)\n",
    "            residuals -= self.learning_rate * predictions\n",
    "            \n",
    "    def predict(self, x):\n",
    "        \n",
    "        y_pred = np.full(x.shape[0], self.inital_value)\n",
    "        \n",
    "        for tree in self.models:\n",
    "            y_pred += self.learning_rate * tree.predict(x)\n",
    "            \n",
    "        return y_pred\n",
    "    \n",
    "    \n",
    "if __name__ == '__main__':\n",
    "    gb = Gradient_boosting_regressor(n_estimators=35, learning_rate=0.1, max_depth=3)\n",
    "    gb.fit(x, y)\n",
    "    \n",
    "    y_pred = gb.predict(x)\n",
    "    \n",
    "    mae = metrics.mean_absolute_error(y_pred, y)\n",
    "    print(f'mae: {mae}')\n",
    "        \n",
    "    "
   ]
  },
  {
   "cell_type": "code",
   "execution_count": 22,
   "id": "addd7f21",
   "metadata": {},
   "outputs": [
    {
     "data": {
      "text/plain": [
       "array([   6.53264584, -110.96050249,   27.19643356,   14.27761745,\n",
       "       -180.90781505,   25.32050345,   -5.54430878,  -39.15745945,\n",
       "       -111.07766897,    0.475409  ])"
      ]
     },
     "execution_count": 22,
     "metadata": {},
     "output_type": "execute_result"
    }
   ],
   "source": [
    "y_pred"
   ]
  },
  {
   "cell_type": "code",
   "execution_count": 23,
   "id": "8a55c274",
   "metadata": {},
   "outputs": [
    {
     "data": {
      "text/plain": [
       "array([   7.1032028 , -112.84950864,   29.82896272,   16.90170315,\n",
       "       -184.59266395,   27.12121091,   -5.14832141,  -40.77685989,\n",
       "       -112.96968328,    1.53681215])"
      ]
     },
     "execution_count": 23,
     "metadata": {},
     "output_type": "execute_result"
    }
   ],
   "source": [
    "y"
   ]
  },
  {
   "cell_type": "markdown",
   "id": "ba1e2c8a",
   "metadata": {},
   "source": [
    "-----"
   ]
  },
  {
   "cell_type": "code",
   "execution_count": 1,
   "id": "d653df90",
   "metadata": {},
   "outputs": [
    {
     "name": "stdout",
     "output_type": "stream",
     "text": [
      "[0.17871288 0.09866273 0.90659262 0.90659262 0.09866273 0.1789106\n",
      " 0.90659262 0.90659262 0.90659262 0.90659262 0.09866273 0.17871288\n",
      " 0.09866273 0.90659262 0.1789106  0.90659262 0.90659262 0.70675609\n",
      " 0.85098026 0.90659262]\n"
     ]
    }
   ],
   "source": [
    "import numpy as np\n",
    "from scipy.special import expit\n",
    "from sklearn.datasets import make_regression, make_classification\n",
    "from sklearn.tree import DecisionTreeRegressor\n",
    "from sklearn import metrics\n",
    "\n",
    "x, y = make_classification(n_samples=20, n_features=2, n_informative=2, n_classes=2, n_repeated=0, n_redundant=0, n_clusters_per_class=2, weights=[0.4, 0.6])\n",
    "\n",
    "\n",
    "class GradientBoostingRegressorTRAIN:\n",
    "\n",
    "    def __init__(self, n_estimators=100, learning_rate=0.1, max_depth=3):\n",
    "        self.n_estimator = n_estimators\n",
    "        self.learning_rate = learning_rate\n",
    "        self.max_depth = max_depth\n",
    "        self.initial_value = None\n",
    "        self.models = list()\n",
    "\n",
    "    def fit(self, x, y):\n",
    "        self.initial_value = np.mean(y)\n",
    "        residual = y - self.initial_value\n",
    "\n",
    "        for _ in range(self.n_estimator):\n",
    "\n",
    "            tree = DecisionTreeRegressor(max_depth=self.max_depth)\n",
    "            tree.fit(x, residual)\n",
    "            self.models.append(tree)\n",
    "\n",
    "            y_pred = tree.predict(x)\n",
    "            residual -= self.initial_value * y_pred\n",
    "\n",
    "    def predict(self, x):\n",
    "\n",
    "        y_pred = np.full(x.shape[0], self.initial_value)\n",
    "\n",
    "        for tree in self.models:\n",
    "            y_pred += self.learning_rate * tree.predict(x)\n",
    "        return y_pred\n",
    "\n",
    "\n",
    "class GradientBoostingClassifierTRAIN(GradientBoostingRegressorTRAIN):\n",
    "\n",
    "    def __init__(self,  n_estimators=100, learning_rate=0.1, max_depth=3):\n",
    "        super().__init__()\n",
    "\n",
    "    def fit(self, x, y):\n",
    "        prob = np.mean(y)\n",
    "\n",
    "        self.initial_value = np.log(prob / (1 - prob))\n",
    "        y_pred = np.full(y.shape, self.initial_value)\n",
    "\n",
    "        for _ in range(self.n_estimator):\n",
    "\n",
    "            residual = y - expit(y_pred)\n",
    "\n",
    "            tree = DecisionTreeRegressor(max_depth=self.max_depth)\n",
    "            tree.fit(x, residual)\n",
    "            self.models.append(tree)\n",
    "\n",
    "            y_pred += self.learning_rate * tree.predict(x)\n",
    "\n",
    "    def predict_proba(self, x):\n",
    "\n",
    "        y_pred = np.full(x.shape[0], self.initial_value)\n",
    "\n",
    "        for tree in self.models:\n",
    "            y_pred += self.learning_rate * tree.predict(x)\n",
    "\n",
    "        return expit(y_pred)\n",
    "\n",
    "    def predict(self, x):\n",
    "        return (self.predict_proba(x) >= 0.5).astype(int)\n",
    "\n",
    "\n",
    "GBC = GradientBoostingClassifierTRAIN(n_estimators=40, learning_rate=0.1, max_depth=3)\n",
    "GBC.fit(x, y)\n",
    "\n",
    "y_predict = GBC.predict(x)\n",
    "pred_proba = GBC.predict_proba(x)\n",
    "\n",
    "\n",
    "print(pred_proba)"
   ]
  },
  {
   "cell_type": "code",
   "execution_count": null,
   "id": "cbdf439c",
   "metadata": {},
   "outputs": [],
   "source": []
  }
 ],
 "metadata": {
  "kernelspec": {
   "display_name": "Python 3 (ipykernel)",
   "language": "python",
   "name": "python3"
  },
  "language_info": {
   "codemirror_mode": {
    "name": "ipython",
    "version": 3
   },
   "file_extension": ".py",
   "mimetype": "text/x-python",
   "name": "python",
   "nbconvert_exporter": "python",
   "pygments_lexer": "ipython3",
   "version": "3.10.8"
  }
 },
 "nbformat": 4,
 "nbformat_minor": 5
}
