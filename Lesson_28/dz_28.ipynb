{
 "cells": [
  {
   "cell_type": "markdown",
   "id": "b3b8b015",
   "metadata": {},
   "source": [
    "### Задача номер 1.\n",
    "\n",
    "| Xi| 1 | 2 | 4 | 6 | 7 |\n",
    "|:--|---|---|---|---|--:|\n",
    "| ni| 2 | 3 | 10| 7 | 2 |\n"
   ]
  },
  {
   "cell_type": "markdown",
   "id": "3dd370cf",
   "metadata": {},
   "source": [
    "\n",
    "$ xВ = \\frac{\\sum Xi ni}{n} = 1 * 2 + 2 * 3 + 4 * 10 + 6 * 3 + 7 * 2 / 20 = 4$"
   ]
  },
  {
   "cell_type": "markdown",
   "id": "4289d03b",
   "metadata": {},
   "source": [
    "$ n = 20 $\n",
    "\n",
    "$ \\gamma = 0,95 $\n"
   ]
  },
  {
   "cell_type": "markdown",
   "id": "e9322e28",
   "metadata": {},
   "source": [
    "$ S^2 = \\frac{1}{n-1} = \\sum{k}{l = 1} = ( x1 - xв )^2 * n1  $\n",
    "\n",
    "$ S^2 = \\frac{((1 - 4)^2 * 2 +( 2 - 4 )^2 * 3 + ( 4 - 4 )^2 * 10 + ( 6 - 4 )^2 * 3 + ( 7 - 4 )^2 * 2 }{19} = 3,2 $\n",
    "\n",
    "$ S = 1,79 $\n",
    "\n",
    "$ \\sqrt{3,2} = 1,79 $ \n",
    "\n"
   ]
  },
  {
   "cell_type": "markdown",
   "id": "93e4b487",
   "metadata": {},
   "source": [
    "$ \\gamma = 0,37 $"
   ]
  },
  {
   "cell_type": "markdown",
   "id": "77f30bfb",
   "metadata": {},
   "source": [
    "$  s(1 - q ) < \\sigma < s ( 1 + q ) для, q < 1 $"
   ]
  },
  {
   "cell_type": "markdown",
   "id": "6fd3e6b1",
   "metadata": {},
   "source": [
    "$  1,79 (1 - 0,37 ) < \\sigma < 1,79 ( 1 + 0,37 ) для, q < 1 $"
   ]
  },
  {
   "cell_type": "markdown",
   "id": "707faf14",
   "metadata": {},
   "source": [
    "$ (1,1277 ; 24523) $"
   ]
  },
  {
   "cell_type": "markdown",
   "id": "6462c52d",
   "metadata": {},
   "source": [
    "\n",
    "### Задача номер 2.\n",
    "\n",
    "$ W = \\frac{m}{n} = \\frac{40}{100} = 0,4 $\n",
    "\n",
    "$ \\Phi(t) = \\frac{0,95}{2} = 0,475 $"
   ]
  },
  {
   "cell_type": "markdown",
   "id": "60146ac4",
   "metadata": {},
   "source": [
    "$  P1 = W - t \\sqrt{\\frac{W * (1 - W}{n}} = 0,4 - 1,96 * \\sqrt{\\frac{0,4(1 - 0,4 }{100}} $\n",
    "\n",
    "$ P1 = 0,39$\n"
   ]
  },
  {
   "cell_type": "markdown",
   "id": "b7b4be19",
   "metadata": {},
   "source": [
    "$  P1 = W - t \\sqrt{\\frac{W * (1 - W}{n}} = 0,4 + 1,96 * \\sqrt{\\frac{0,4(1 - 0,4 }{100}} $\n",
    "\n",
    "$ P2 = 0,40 $"
   ]
  },
  {
   "cell_type": "markdown",
   "id": "ccfe718b",
   "metadata": {},
   "source": [
    "\n",
    "### Задача номер 3.\n",
    "\n",
    "$ \\Phi (t) = \\frac{0,99}{2} = 0,495 $\n",
    "\n",
    "$ t 2,62^2 =  $\n",
    "\n",
    "$ t^2 = 6,8644 $\n",
    "\n",
    "$ \\sigma 3^2 = 9 $\n",
    "\n",
    "$ \\delta^2 = 0,36 $\n",
    "\n",
    "$ n \\frac{t^2 \\sigma}{\\delta^2} = \\frac{6,8644 * 9}{0,36} = 171,5 $\n"
   ]
  },
  {
   "cell_type": "code",
   "execution_count": null,
   "id": "1079e517",
   "metadata": {},
   "outputs": [],
   "source": []
  }
 ],
 "metadata": {
  "kernelspec": {
   "display_name": "Python 3 (ipykernel)",
   "language": "python",
   "name": "python3"
  },
  "language_info": {
   "codemirror_mode": {
    "name": "ipython",
    "version": 3
   },
   "file_extension": ".py",
   "mimetype": "text/x-python",
   "name": "python",
   "nbconvert_exporter": "python",
   "pygments_lexer": "ipython3",
   "version": "3.10.8"
  }
 },
 "nbformat": 4,
 "nbformat_minor": 5
}
