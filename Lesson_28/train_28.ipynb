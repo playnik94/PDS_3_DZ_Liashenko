{
 "cells": [
  {
   "cell_type": "code",
   "execution_count": 20,
   "id": "34ed6c9e",
   "metadata": {},
   "outputs": [
    {
     "data": {
      "text/html": [
       "<div>\n",
       "<style scoped>\n",
       "    .dataframe tbody tr th:only-of-type {\n",
       "        vertical-align: middle;\n",
       "    }\n",
       "\n",
       "    .dataframe tbody tr th {\n",
       "        vertical-align: top;\n",
       "    }\n",
       "\n",
       "    .dataframe thead th {\n",
       "        text-align: right;\n",
       "    }\n",
       "</style>\n",
       "<table border=\"1\" class=\"dataframe\">\n",
       "  <thead>\n",
       "    <tr style=\"text-align: right;\">\n",
       "      <th></th>\n",
       "      <th>xi</th>\n",
       "      <th>ni</th>\n",
       "    </tr>\n",
       "  </thead>\n",
       "  <tbody>\n",
       "    <tr>\n",
       "      <th>0</th>\n",
       "      <td>6</td>\n",
       "      <td>4</td>\n",
       "    </tr>\n",
       "    <tr>\n",
       "      <th>1</th>\n",
       "      <td>7</td>\n",
       "      <td>7</td>\n",
       "    </tr>\n",
       "    <tr>\n",
       "      <th>2</th>\n",
       "      <td>8</td>\n",
       "      <td>9</td>\n",
       "    </tr>\n",
       "    <tr>\n",
       "      <th>3</th>\n",
       "      <td>9</td>\n",
       "      <td>17</td>\n",
       "    </tr>\n",
       "    <tr>\n",
       "      <th>4</th>\n",
       "      <td>10</td>\n",
       "      <td>24</td>\n",
       "    </tr>\n",
       "    <tr>\n",
       "      <th>5</th>\n",
       "      <td>11</td>\n",
       "      <td>19</td>\n",
       "    </tr>\n",
       "    <tr>\n",
       "      <th>6</th>\n",
       "      <td>12</td>\n",
       "      <td>10</td>\n",
       "    </tr>\n",
       "    <tr>\n",
       "      <th>7</th>\n",
       "      <td>13</td>\n",
       "      <td>7</td>\n",
       "    </tr>\n",
       "    <tr>\n",
       "      <th>8</th>\n",
       "      <td>14</td>\n",
       "      <td>3</td>\n",
       "    </tr>\n",
       "  </tbody>\n",
       "</table>\n",
       "</div>"
      ],
      "text/plain": [
       "   xi  ni\n",
       "0   6   4\n",
       "1   7   7\n",
       "2   8   9\n",
       "3   9  17\n",
       "4  10  24\n",
       "5  11  19\n",
       "6  12  10\n",
       "7  13   7\n",
       "8  14   3"
      ]
     },
     "execution_count": 20,
     "metadata": {},
     "output_type": "execute_result"
    }
   ],
   "source": [
    "import pandas as pd\n",
    "\n",
    "g = 0.95\n",
    "xi = [6,7,8,9,10,11,12,13,14]\n",
    "ni = [4,7,9,17,24,19,10,7,3]\n",
    "\n",
    "df = pd.DataFrame({'xi':xi, 'ni':ni})\n",
    "df"
   ]
  },
  {
   "cell_type": "code",
   "execution_count": 16,
   "id": "8c6eb767",
   "metadata": {
    "scrolled": true
   },
   "outputs": [
    {
     "data": {
      "text/plain": [
       "0.475"
      ]
     },
     "execution_count": 16,
     "metadata": {},
     "output_type": "execute_result"
    }
   ],
   "source": [
    "f_t = g / 2\n",
    "f_t"
   ]
  },
  {
   "cell_type": "code",
   "execution_count": 17,
   "id": "f86c46ff",
   "metadata": {},
   "outputs": [],
   "source": [
    "f = 1.96 # По таблице Лапласса"
   ]
  },
  {
   "cell_type": "code",
   "execution_count": 23,
   "id": "25451dc5",
   "metadata": {
    "scrolled": true
   },
   "outputs": [
    {
     "name": "stdout",
     "output_type": "stream",
     "text": [
      "9.412\n",
      "10.588\n",
      "-1.1759999999999984\n"
     ]
    }
   ],
   "source": [
    "Xv1 =  Xv - f * (3 / 100**0.5)\n",
    "Xv2 =  Xv + f * (3 / 100**0.5)\n",
    "\n",
    "print(Xv1)\n",
    "print(Xv2)\n",
    "print(Xv1 - Xv2 )"
   ]
  },
  {
   "cell_type": "markdown",
   "id": "00d8b745",
   "metadata": {},
   "source": [
    "Задача 2"
   ]
  },
  {
   "cell_type": "code",
   "execution_count": 53,
   "id": "027e6435",
   "metadata": {
    "scrolled": true
   },
   "outputs": [
    {
     "name": "stdout",
     "output_type": "stream",
     "text": [
      "0.475\n",
      "\n",
      "   x   n\n",
      "0  1   2\n",
      "1  2   3\n",
      "2  4  10\n",
      "3  6   3\n",
      "4  7   2\n"
     ]
    }
   ],
   "source": [
    "X = [1, 2, 4, 6, 7]\n",
    "N = [2, 3, 10, 3, 2]\n",
    "\n",
    "gamma = 0.95 / 2\n",
    "\n",
    "data = pd.DataFrame({'x':X, 'n':N})\n",
    "\n",
    "print(gamma)\n",
    "print()\n",
    "print(data)"
   ]
  },
  {
   "cell_type": "code",
   "execution_count": 54,
   "id": "67b3d9a3",
   "metadata": {},
   "outputs": [
    {
     "data": {
      "text/plain": [
       "4"
      ]
     },
     "execution_count": 54,
     "metadata": {},
     "output_type": "execute_result"
    }
   ],
   "source": [
    "xV = sum(data['x'] * data['n']) / sum(data['n'])\n",
    "\n",
    "xV = int(xV)\n",
    "xV"
   ]
  },
  {
   "cell_type": "code",
   "execution_count": 98,
   "id": "49e7579c",
   "metadata": {},
   "outputs": [
    {
     "name": "stdout",
     "output_type": "stream",
     "text": [
      "19\n",
      "3.3157894736842106\n",
      "1.820930936000652\n"
     ]
    }
   ],
   "source": [
    "n = sum(data['n']) - 1\n",
    "print(n)\n",
    "\n",
    "for x in data['x']:\n",
    "    dx = (x - xV)**2 * x\n",
    "    \n",
    "dx = dx / n\n",
    "\n",
    "Ty = 2.093 # по таблце gamma = 0.475 = 2.093 \n",
    "\n",
    "s = dx**0.5\n",
    "\n",
    "print(dx)\n",
    "print(s)"
   ]
  },
  {
   "cell_type": "code",
   "execution_count": 99,
   "id": "87cea160",
   "metadata": {},
   "outputs": [
    {
     "data": {
      "text/plain": [
       "1.820930936000652"
      ]
     },
     "execution_count": 99,
     "metadata": {},
     "output_type": "execute_result"
    }
   ],
   "source": [
    "x = [(x - xV)**2 * x for x in data['x']]\n",
    "\n",
    "X = x[-1] / n\n",
    "X**0.5"
   ]
  },
  {
   "cell_type": "code",
   "execution_count": 100,
   "id": "deaa018a",
   "metadata": {},
   "outputs": [
    {
     "data": {
      "text/plain": [
       "20"
      ]
     },
     "execution_count": 100,
     "metadata": {},
     "output_type": "execute_result"
    }
   ],
   "source": [
    "n = n + 1\n",
    "n"
   ]
  },
  {
   "cell_type": "code",
   "execution_count": 101,
   "id": "672eb9f3",
   "metadata": {},
   "outputs": [
    {
     "name": "stdout",
     "output_type": "stream",
     "text": [
      "0.8522121168495922\n",
      "3.147787883150408\n",
      "4.852212116849592\n",
      "-0.852212116849592\n"
     ]
    }
   ],
   "source": [
    "X1 = xV - Ty * (s / sum(data['n'])**0.5) \n",
    "X2 = xV + Ty * (s / sum(data['n'])**0.5) \n",
    "\n",
    "print(2.093 * s / n**0.5)\n",
    "print(X1)\n",
    "print(X2)\n",
    "print(((X1 + X2) / 2) - X2)"
   ]
  },
  {
   "cell_type": "markdown",
   "id": "6df8413a",
   "metadata": {},
   "source": [
    "G = (Ty * S) / n**0.5"
   ]
  },
  {
   "cell_type": "code",
   "execution_count": 190,
   "id": "8b86f093",
   "metadata": {},
   "outputs": [
    {
     "data": {
      "text/plain": [
       "0.8522121168495922"
      ]
     },
     "execution_count": 190,
     "metadata": {},
     "output_type": "execute_result"
    }
   ],
   "source": [
    "G = Ty * s / sum(data['n'])**0.5\n",
    "G"
   ]
  },
  {
   "cell_type": "markdown",
   "id": "3077ceaa",
   "metadata": {},
   "source": [
    "------------------------------"
   ]
  },
  {
   "cell_type": "code",
   "execution_count": 22,
   "id": "7c08748b",
   "metadata": {},
   "outputs": [
    {
     "data": {
      "text/plain": [
       "(2.7647191216978007, 5.035280878302199)"
      ]
     },
     "execution_count": 22,
     "metadata": {},
     "output_type": "execute_result"
    }
   ],
   "source": [
    "import numpy as np \n",
    "import scipy.stats as st \n",
    "import warnings\n",
    "warnings.filterwarnings('ignore')\n",
    "\n",
    "\n",
    "# define sample data \n",
    "gfg_data = [1, 1, 1, 2, 2, 2, 3, 3, 3, 3, 3, 4, 4, 5, 5, 5, 6, 7, 8, 10] \n",
    "\n",
    "# create 90% confidence interval \n",
    "con_interval = st.t.interval(alpha=0.95, df=len(gfg_data)-1, loc=np.mean(gfg_data), scale=st.sem(gfg_data)) \n",
    "con_interval"
   ]
  },
  {
   "cell_type": "code",
   "execution_count": 23,
   "id": "5946aa2d",
   "metadata": {},
   "outputs": [],
   "source": [
    "a, b = con_interval"
   ]
  },
  {
   "cell_type": "code",
   "execution_count": 24,
   "id": "287d178b",
   "metadata": {},
   "outputs": [
    {
     "data": {
      "text/plain": [
       "1.1352808783021993"
      ]
     },
     "execution_count": 24,
     "metadata": {},
     "output_type": "execute_result"
    }
   ],
   "source": [
    "c = a + b\n",
    "c / 2 - a"
   ]
  },
  {
   "cell_type": "code",
   "execution_count": 25,
   "id": "46ab0edf",
   "metadata": {},
   "outputs": [
    {
     "data": {
      "text/plain": [
       "2.7647191216978007"
      ]
     },
     "execution_count": 25,
     "metadata": {},
     "output_type": "execute_result"
    }
   ],
   "source": [
    "a"
   ]
  },
  {
   "cell_type": "code",
   "execution_count": 26,
   "id": "b0e4567c",
   "metadata": {},
   "outputs": [
    {
     "data": {
      "text/plain": [
       "5.035280878302199"
      ]
     },
     "execution_count": 26,
     "metadata": {},
     "output_type": "execute_result"
    }
   ],
   "source": [
    "b"
   ]
  },
  {
   "cell_type": "markdown",
   "id": "ac8a359d",
   "metadata": {},
   "source": [
    "---------------------------------"
   ]
  },
  {
   "cell_type": "code",
   "execution_count": 6,
   "id": "db4767cd",
   "metadata": {},
   "outputs": [
    {
     "data": {
      "text/html": [
       "<div>\n",
       "<style scoped>\n",
       "    .dataframe tbody tr th:only-of-type {\n",
       "        vertical-align: middle;\n",
       "    }\n",
       "\n",
       "    .dataframe tbody tr th {\n",
       "        vertical-align: top;\n",
       "    }\n",
       "\n",
       "    .dataframe thead th {\n",
       "        text-align: right;\n",
       "    }\n",
       "</style>\n",
       "<table border=\"1\" class=\"dataframe\">\n",
       "  <thead>\n",
       "    <tr style=\"text-align: right;\">\n",
       "      <th></th>\n",
       "      <th>x</th>\n",
       "      <th>ni</th>\n",
       "      <th>pi</th>\n",
       "      <th>wi</th>\n",
       "    </tr>\n",
       "  </thead>\n",
       "  <tbody>\n",
       "    <tr>\n",
       "      <th>0</th>\n",
       "      <td>1</td>\n",
       "      <td>3</td>\n",
       "      <td>0.021739</td>\n",
       "      <td>0.065217</td>\n",
       "    </tr>\n",
       "    <tr>\n",
       "      <th>1</th>\n",
       "      <td>2</td>\n",
       "      <td>3</td>\n",
       "      <td>0.043478</td>\n",
       "      <td>0.065217</td>\n",
       "    </tr>\n",
       "    <tr>\n",
       "      <th>2</th>\n",
       "      <td>3</td>\n",
       "      <td>5</td>\n",
       "      <td>0.065217</td>\n",
       "      <td>0.108696</td>\n",
       "    </tr>\n",
       "    <tr>\n",
       "      <th>3</th>\n",
       "      <td>4</td>\n",
       "      <td>2</td>\n",
       "      <td>0.086957</td>\n",
       "      <td>0.043478</td>\n",
       "    </tr>\n",
       "    <tr>\n",
       "      <th>4</th>\n",
       "      <td>5</td>\n",
       "      <td>3</td>\n",
       "      <td>0.108696</td>\n",
       "      <td>0.065217</td>\n",
       "    </tr>\n",
       "    <tr>\n",
       "      <th>5</th>\n",
       "      <td>6</td>\n",
       "      <td>1</td>\n",
       "      <td>0.130435</td>\n",
       "      <td>0.021739</td>\n",
       "    </tr>\n",
       "    <tr>\n",
       "      <th>6</th>\n",
       "      <td>7</td>\n",
       "      <td>1</td>\n",
       "      <td>0.152174</td>\n",
       "      <td>0.021739</td>\n",
       "    </tr>\n",
       "    <tr>\n",
       "      <th>7</th>\n",
       "      <td>8</td>\n",
       "      <td>1</td>\n",
       "      <td>0.173913</td>\n",
       "      <td>0.021739</td>\n",
       "    </tr>\n",
       "    <tr>\n",
       "      <th>8</th>\n",
       "      <td>10</td>\n",
       "      <td>1</td>\n",
       "      <td>0.217391</td>\n",
       "      <td>0.021739</td>\n",
       "    </tr>\n",
       "  </tbody>\n",
       "</table>\n",
       "</div>"
      ],
      "text/plain": [
       "    x  ni        pi        wi\n",
       "0   1   3  0.021739  0.065217\n",
       "1   2   3  0.043478  0.065217\n",
       "2   3   5  0.065217  0.108696\n",
       "3   4   2  0.086957  0.043478\n",
       "4   5   3  0.108696  0.065217\n",
       "5   6   1  0.130435  0.021739\n",
       "6   7   1  0.152174  0.021739\n",
       "7   8   1  0.173913  0.021739\n",
       "8  10   1  0.217391  0.021739"
      ]
     },
     "execution_count": 6,
     "metadata": {},
     "output_type": "execute_result"
    }
   ],
   "source": [
    "import pandas as pd\n",
    "import matplotlib.pyplot as plt\n",
    "\n",
    "x = dict()\n",
    "\n",
    "for i in gfg_data:\n",
    "    if i not in x:\n",
    "        x[i] = 1\n",
    "    else:\n",
    "        x[i] += 1\n",
    "\n",
    "d = pd.DataFrame({'x': x.keys(), 'ni':x.values()})\n",
    "\n",
    "d['pi'] = d['x'] / sum(d['x'])\n",
    "\n",
    "d['wi'] = d['ni'] / sum(d['x'])\n",
    "\n",
    "d"
   ]
  },
  {
   "cell_type": "code",
   "execution_count": 7,
   "id": "29af44e6",
   "metadata": {},
   "outputs": [
    {
     "name": "stdout",
     "output_type": "stream",
     "text": [
      "{1: 3, 2: 3, 3: 5, 4: 2, 5: 3, 6: 1, 7: 1, 8: 1, 10: 1}\n"
     ]
    }
   ],
   "source": [
    "print(x)"
   ]
  },
  {
   "cell_type": "code",
   "execution_count": 8,
   "id": "902ef24e",
   "metadata": {},
   "outputs": [
    {
     "data": {
      "image/png": "[encoded data removed]",
      "text/plain": [
       "<Figure size 800x800 with 1 Axes>"
      ]
     },
     "metadata": {},
     "output_type": "display_data"
    }
   ],
   "source": [
    "plt.figure(figsize=(8, 8))\n",
    "plt.plot(d['x'], d['ni'])\n",
    "plt.title('Частота')\n",
    "plt.xlabel('x')\n",
    "plt.ylabel('y')\n",
    "plt.show()"
   ]
  },
  {
   "cell_type": "code",
   "execution_count": 9,
   "id": "ca34b7f6",
   "metadata": {},
   "outputs": [
    {
     "name": "stdout",
     "output_type": "stream",
     "text": [
      "1.96\n",
      "0.475\n",
      "1.96\n"
     ]
    }
   ],
   "source": [
    "g = 0.95\n",
    "\n",
    "t_f = g / 2\n",
    "\n",
    "t = 1.96\n",
    "\n",
    "print(t)\n",
    "print(t_f)# По таблице Лапласса = 1.96\n",
    "print(t)"
   ]
  },
  {
   "cell_type": "code",
   "execution_count": 10,
   "id": "ec9e98d8",
   "metadata": {},
   "outputs": [
    {
     "data": {
      "text/plain": [
       "3.9"
      ]
     },
     "execution_count": 10,
     "metadata": {},
     "output_type": "execute_result"
    }
   ],
   "source": [
    "Mx = sum(d['x'] * d['ni']) / sum(d['ni'])\n",
    "Mx"
   ]
  },
  {
   "cell_type": "code",
   "execution_count": 28,
   "id": "2a0e28bd",
   "metadata": {},
   "outputs": [
    {
     "name": "stdout",
     "output_type": "stream",
     "text": [
      "4.4254051256710705\n"
     ]
    }
   ],
   "source": [
    "n = sum(d['ni']) - 1\n",
    "\n",
    "for x in d['x']:\n",
    "    a = (x - Mx)**2 * x\n",
    "    \n",
    "a = a / n\n",
    "a = a**0.5\n",
    "\n",
    "print(a)"
   ]
  },
  {
   "cell_type": "code",
   "execution_count": 29,
   "id": "aa66a382",
   "metadata": {},
   "outputs": [
    {
     "name": "stdout",
     "output_type": "stream",
     "text": [
      "1.9604806889606037 5.839519311039396\n"
     ]
    }
   ],
   "source": [
    "xv1 = Mx - t *  a / sum(d['ni'])**0.5\n",
    "xv2 = Mx + t *  a / sum(d['ni'])**0.5\n",
    "\n",
    "print(xv1, xv2)"
   ]
  },
  {
   "cell_type": "code",
   "execution_count": 42,
   "id": "bd4094f2",
   "metadata": {},
   "outputs": [
    {
     "data": {
      "text/plain": [
       "-1.9395193110393962"
      ]
     },
     "execution_count": 42,
     "metadata": {},
     "output_type": "execute_result"
    }
   ],
   "source": [
    "c = xv2 + xv1 \n",
    "n = c / 2 - xv2\n",
    "n"
   ]
  },
  {
   "cell_type": "code",
   "execution_count": 43,
   "id": "7b35a25f",
   "metadata": {},
   "outputs": [
    {
     "data": {
      "text/plain": [
       "1.9395193110393962"
      ]
     },
     "execution_count": 43,
     "metadata": {},
     "output_type": "execute_result"
    }
   ],
   "source": [
    "m = c / 2 - xv1\n",
    "m"
   ]
  },
  {
   "cell_type": "code",
   "execution_count": 50,
   "id": "013a2a64",
   "metadata": {},
   "outputs": [
    {
     "data": {
      "text/plain": [
       "3.9"
      ]
     },
     "execution_count": 50,
     "metadata": {},
     "output_type": "execute_result"
    }
   ],
   "source": [
    "1.9604806889606037 + 1.9395193110393962"
   ]
  },
  {
   "cell_type": "code",
   "execution_count": 51,
   "id": "486d01a3",
   "metadata": {},
   "outputs": [
    {
     "data": {
      "text/plain": [
       "3.9"
      ]
     },
     "execution_count": 51,
     "metadata": {},
     "output_type": "execute_result"
    }
   ],
   "source": [
    "5.839519311039396 - 1.9395193110393962"
   ]
  },
  {
   "cell_type": "markdown",
   "id": "1ce104ab",
   "metadata": {},
   "source": [
    "----------------------------"
   ]
  },
  {
   "cell_type": "code",
   "execution_count": 52,
   "id": "9bc5b112",
   "metadata": {},
   "outputs": [
    {
     "data": {
      "text/plain": [
       "(3.1683165747462367, 4.831683425253763)"
      ]
     },
     "execution_count": 52,
     "metadata": {},
     "output_type": "execute_result"
    }
   ],
   "source": [
    " \n",
    "data = [1,1,2,2,2,4,4,4,4,4,4,4,4,4,4,6,6,6,7,7] \n",
    "\n",
    " \n",
    "con_inter = st.t.interval(alpha=0.95, df=len(data)-1, loc=np.mean(data), scale=st.sem(data)) \n",
    "con_inter"
   ]
  },
  {
   "cell_type": "markdown",
   "id": "e5e60add",
   "metadata": {},
   "source": [
    "---------------------------------"
   ]
  },
  {
   "cell_type": "code",
   "execution_count": 3,
   "id": "743124dd",
   "metadata": {},
   "outputs": [
    {
     "name": "stdout",
     "output_type": "stream",
     "text": [
      "[0.16666666666666666]\n",
      "[0.2]\n",
      "[0.25]\n"
     ]
    }
   ],
   "source": [
    "import numpy as np\n",
    "import matplotlib.pyplot as plt\n",
    "import random\n",
    "\n",
    "x = [1/6]\n",
    "x2 = [1/5]\n",
    "x3 = [1/4]\n",
    "\n",
    "print(x)\n",
    "print(x2)\n",
    "print(x3)"
   ]
  },
  {
   "cell_type": "code",
   "execution_count": 82,
   "id": "11db3e2c",
   "metadata": {},
   "outputs": [
    {
     "data": {
      "text/plain": [
       "(array([ 0.,  0.,  0.,  0.,  0., 10.,  0.,  0.,  0.,  0.]),\n",
       " array([-0.33333333, -0.23333333, -0.13333333, -0.03333333,  0.06666667,\n",
       "         0.16666667,  0.26666667,  0.36666667,  0.46666667,  0.56666667,\n",
       "         0.66666667]),\n",
       " <BarContainer object of 10 artists>)"
      ]
     },
     "execution_count": 82,
     "metadata": {},
     "output_type": "execute_result"
    },
    {
     "data": {
      "image/png": "[encoded data removed]",
      "text/plain": [
       "<Figure size 640x480 with 1 Axes>"
      ]
     },
     "metadata": {},
     "output_type": "display_data"
    }
   ],
   "source": [
    "plt.hist(x)"
   ]
  },
  {
   "cell_type": "code",
   "execution_count": 76,
   "id": "22b03880",
   "metadata": {},
   "outputs": [
    {
     "data": {
      "text/plain": [
       "(array([10., 11.,  8.,  7., 10., 10., 14.,  7., 10., 13.]),\n",
       " array([2.00287033, 2.10231558, 2.20176083, 2.30120608, 2.40065134,\n",
       "        2.50009659, 2.59954184, 2.69898709, 2.79843235, 2.8978776 ,\n",
       "        2.99732285]),\n",
       " <BarContainer object of 10 artists>)"
      ]
     },
     "execution_count": 76,
     "metadata": {},
     "output_type": "execute_result"
    },
    {
     "data": {
      "image/png": "[encoded data removed]",
      "text/plain": [
       "<Figure size 640x480 with 1 Axes>"
      ]
     },
     "metadata": {},
     "output_type": "display_data"
    }
   ],
   "source": [
    "plt.hist(x1)"
   ]
  },
  {
   "cell_type": "code",
   "execution_count": 77,
   "id": "60aa5e63",
   "metadata": {},
   "outputs": [
    {
     "data": {
      "text/plain": [
       "(array([ 99., 101.,  96.,  88., 103., 105., 102., 100., 107.,  99.]),\n",
       " array([2.00040202, 2.10003716, 2.1996723 , 2.29930744, 2.39894259,\n",
       "        2.49857773, 2.59821287, 2.69784801, 2.79748315, 2.89711829,\n",
       "        2.99675343]),\n",
       " <BarContainer object of 10 artists>)"
      ]
     },
     "execution_count": 77,
     "metadata": {},
     "output_type": "execute_result"
    },
    {
     "data": {
      "image/png": "[encoded data removed]",
      "text/plain": [
       "<Figure size 640x480 with 1 Axes>"
      ]
     },
     "metadata": {},
     "output_type": "display_data"
    }
   ],
   "source": [
    "plt.hist(x2)"
   ]
  },
  {
   "cell_type": "code",
   "execution_count": 78,
   "id": "605c9088",
   "metadata": {},
   "outputs": [
    {
     "data": {
      "text/plain": [
       "(array([1001.,  977., 1068.,  943.,  992., 1063., 1005., 1007.,  989.,\n",
       "         955.]),\n",
       " array([2.00004713, 2.10003   , 2.20001286, 2.29999573, 2.39997859,\n",
       "        2.49996146, 2.59994432, 2.69992719, 2.79991006, 2.89989292,\n",
       "        2.99987579]),\n",
       " <BarContainer object of 10 artists>)"
      ]
     },
     "execution_count": 78,
     "metadata": {},
     "output_type": "execute_result"
    },
    {
     "data": {
      "image/png": "[encoded data removed]",
      "text/plain": [
       "<Figure size 640x480 with 1 Axes>"
      ]
     },
     "metadata": {},
     "output_type": "display_data"
    }
   ],
   "source": [
    "plt.hist(x3)"
   ]
  },
  {
   "cell_type": "markdown",
   "id": "12f20cc7",
   "metadata": {},
   "source": [
    "---------------------------------------------------"
   ]
  },
  {
   "cell_type": "code",
   "execution_count": 9,
   "id": "f56ec9ce",
   "metadata": {},
   "outputs": [
    {
     "data": {
      "text/plain": [
       "[7.1, 6.3, 6.2, 5.8, 7.7, 6.8, 6.7, 5.9, 5.7, 5.1]"
      ]
     },
     "execution_count": 9,
     "metadata": {},
     "output_type": "execute_result"
    }
   ],
   "source": [
    "a = [7.1, 6.3, 6.2, 5.8, 7.7, 6.8, 6.7, 5.9, 5.7, 5.1]\n",
    "a"
   ]
  },
  {
   "cell_type": "code",
   "execution_count": 18,
   "id": "2ef3deec",
   "metadata": {},
   "outputs": [
    {
     "data": {
      "text/plain": [
       "6.33"
      ]
     },
     "execution_count": 18,
     "metadata": {},
     "output_type": "execute_result"
    }
   ],
   "source": [
    "mx = sum(a) / len(a)\n",
    "mx"
   ]
  },
  {
   "cell_type": "code",
   "execution_count": 19,
   "id": "08a3dce4",
   "metadata": {},
   "outputs": [
    {
     "data": {
      "text/plain": [
       "0.5353834123222748"
      ]
     },
     "execution_count": 19,
     "metadata": {},
     "output_type": "execute_result"
    }
   ],
   "source": [
    "d = [(x - b)**2 * x for x in a]\n",
    "\n",
    "dx = sum(d) / sum(a)\n",
    "dx"
   ]
  },
  {
   "cell_type": "code",
   "execution_count": 22,
   "id": "00fd77d9",
   "metadata": {},
   "outputs": [
    {
     "data": {
      "text/plain": [
       "0.5948704581358609"
      ]
     },
     "execution_count": 22,
     "metadata": {},
     "output_type": "execute_result"
    }
   ],
   "source": [
    "n = len(a)\n",
    "\n",
    "s2 = n / (n - 1) * dx #  несмещённая оценка неизвестной генеральной дисперсии\n",
    "\n",
    "s2"
   ]
  },
  {
   "cell_type": "code",
   "execution_count": 23,
   "id": "2bb13825",
   "metadata": {},
   "outputs": [
    {
     "data": {
      "text/plain": [
       "0.7712784569374804"
      ]
     },
     "execution_count": 23,
     "metadata": {},
     "output_type": "execute_result"
    }
   ],
   "source": [
    "s = s2**0.5 # исправленное среднее квадратическое отклонение.\n",
    "s"
   ]
  },
  {
   "cell_type": "code",
   "execution_count": 27,
   "id": "a42ad6c5",
   "metadata": {},
   "outputs": [],
   "source": [
    "Ty = 2.26 # По таблице"
   ]
  },
  {
   "cell_type": "code",
   "execution_count": 29,
   "id": "86266634",
   "metadata": {},
   "outputs": [
    {
     "data": {
      "text/plain": [
       "0.5512132393162126"
      ]
     },
     "execution_count": 29,
     "metadata": {},
     "output_type": "execute_result"
    }
   ],
   "source": [
    "G = Ty * s / n**0.5 # Доверительный интервал\n",
    "G"
   ]
  },
  {
   "cell_type": "code",
   "execution_count": 31,
   "id": "c1dcad67",
   "metadata": {},
   "outputs": [
    {
     "data": {
      "text/plain": [
       "5.778786760683787"
      ]
     },
     "execution_count": 31,
     "metadata": {},
     "output_type": "execute_result"
    }
   ],
   "source": [
    "mx - Ty * s / n**0.5 "
   ]
  },
  {
   "cell_type": "code",
   "execution_count": 32,
   "id": "64be4fa9",
   "metadata": {},
   "outputs": [
    {
     "data": {
      "text/plain": [
       "6.881213239316213"
      ]
     },
     "execution_count": 32,
     "metadata": {},
     "output_type": "execute_result"
    }
   ],
   "source": [
    "mx + Ty * s / n**0.5"
   ]
  },
  {
   "cell_type": "markdown",
   "id": "73250d0e",
   "metadata": {},
   "source": [
    "----------------------"
   ]
  },
  {
   "cell_type": "code",
   "execution_count": 57,
   "id": "573cd6da",
   "metadata": {},
   "outputs": [],
   "source": [
    "xi = [1,2,4,6,7]\n",
    "ni = [2,3,10,3,2]\n",
    "\n",
    "q = 0.37 #  0.95: Таблица значений q "
   ]
  },
  {
   "cell_type": "code",
   "execution_count": 61,
   "id": "02d9c46b",
   "metadata": {},
   "outputs": [
    {
     "data": {
      "text/plain": [
       "4.0"
      ]
     },
     "execution_count": 61,
     "metadata": {},
     "output_type": "execute_result"
    }
   ],
   "source": [
    "a = list()\n",
    "for x, n in zip(xi, ni):\n",
    "    a.append(x * n)\n",
    "    \n",
    "xv = sum(a) / sum(ni)\n",
    "xv"
   ]
  },
  {
   "cell_type": "code",
   "execution_count": 62,
   "id": "bba043e1",
   "metadata": {},
   "outputs": [
    {
     "data": {
      "text/plain": [
       "1.820930936000652"
      ]
     },
     "execution_count": 62,
     "metadata": {},
     "output_type": "execute_result"
    }
   ],
   "source": [
    "n = sum(ni) - 1\n",
    "\n",
    "d = []\n",
    "for x in xi:\n",
    "    d = (x - xv)**2 * x\n",
    "\n",
    "d = d / n\n",
    "s = d**0.5\n",
    "s"
   ]
  },
  {
   "cell_type": "code",
   "execution_count": 64,
   "id": "08134bc3",
   "metadata": {},
   "outputs": [
    {
     "name": "stdout",
     "output_type": "stream",
     "text": [
      "2.4946753823208936 1.1471864896804107\n"
     ]
    }
   ],
   "source": [
    "interval_minus = s * (1 - q)\n",
    "\n",
    "interval_plus = s * (1 + q)\n",
    "\n",
    "print(interval_plus, interval_minus) # Доверительные интервал для среднеквадратического отклонения"
   ]
  },
  {
   "cell_type": "markdown",
   "id": "5b822a8a",
   "metadata": {},
   "source": [
    "------------------------------"
   ]
  },
  {
   "cell_type": "markdown",
   "id": "4625f00c",
   "metadata": {},
   "source": [
    "Задача 2: "
   ]
  },
  {
   "cell_type": "markdown",
   "id": "5f14c2e7",
   "metadata": {},
   "source": [
    "-----------------------------------------------"
   ]
  },
  {
   "cell_type": "code",
   "execution_count": 67,
   "id": "612cf5b3",
   "metadata": {},
   "outputs": [],
   "source": [
    "g = 0.95 / 2\n",
    "\n",
    "n = 100\n",
    "m = 40\n",
    "\n",
    "t = 1.96 # С таблице Лапласа"
   ]
  },
  {
   "cell_type": "code",
   "execution_count": 74,
   "id": "d19e404a",
   "metadata": {},
   "outputs": [
    {
     "data": {
      "text/plain": [
       "32.1285646760303"
      ]
     },
     "execution_count": 74,
     "metadata": {},
     "output_type": "execute_result"
    }
   ],
   "source": [
    "p1 =  m + (t**2 / 2) - t * ((m * (n - m) / n ) + t**2 / 4)**0.5\n",
    "p1"
   ]
  },
  {
   "cell_type": "code",
   "execution_count": 76,
   "id": "40018e7d",
   "metadata": {},
   "outputs": [
    {
     "data": {
      "text/plain": [
       "51.7130353239697"
      ]
     },
     "execution_count": 76,
     "metadata": {},
     "output_type": "execute_result"
    }
   ],
   "source": [
    "p2 = m + (t**2 / 2) + t * ((m * (n - m) / n ) + t**2 / 4)**0.5\n",
    "p2"
   ]
  },
  {
   "cell_type": "code",
   "execution_count": 77,
   "id": "8d3ee005",
   "metadata": {},
   "outputs": [
    {
     "name": "stdout",
     "output_type": "stream",
     "text": [
      "32.1285646760303 51.7130353239697\n"
     ]
    }
   ],
   "source": [
    "print(p1, p2)"
   ]
  },
  {
   "cell_type": "markdown",
   "id": "6b15ee34",
   "metadata": {},
   "source": [
    "---------------------------------------------"
   ]
  },
  {
   "cell_type": "markdown",
   "id": "4ebca4cb",
   "metadata": {},
   "source": [
    "Задача 3:"
   ]
  },
  {
   "cell_type": "markdown",
   "id": "5bd51145",
   "metadata": {},
   "source": [
    "----------------------"
   ]
  },
  {
   "cell_type": "code",
   "execution_count": 80,
   "id": "732d555a",
   "metadata": {},
   "outputs": [],
   "source": [
    "y = 0.99 / 2\n",
    "\n",
    "t = 2.58\n",
    "\n",
    "g = 0.6\n",
    "\n",
    "s = 3"
   ]
  },
  {
   "cell_type": "code",
   "execution_count": 81,
   "id": "05a12f4f",
   "metadata": {},
   "outputs": [
    {
     "data": {
      "text/plain": [
       "166.41000000000003"
      ]
     },
     "execution_count": 81,
     "metadata": {},
     "output_type": "execute_result"
    }
   ],
   "source": [
    "n  = (t**2 * s**2) / g**2\n",
    "n"
   ]
  },
  {
   "cell_type": "markdown",
   "id": "dec45906",
   "metadata": {},
   "source": [
    "---------------------------------------------------"
   ]
  },
  {
   "cell_type": "code",
   "execution_count": 25,
   "id": "3fc4226f",
   "metadata": {},
   "outputs": [
    {
     "data": {
      "text/plain": [
       "{1: 3, 2: 3, 3: 5, 4: 2, 5: 3, 6: 1, 7: 1, 8: 1, 10: 1}"
      ]
     },
     "execution_count": 25,
     "metadata": {},
     "output_type": "execute_result"
    }
   ],
   "source": [
    "xi = [1, 1, 1, 2, 2, 2, 3, 3, 3, 3, 3, 4, 4, 5, 5, 5, 6, 7, 8, 10] \n",
    "\n",
    "ni = {}\n",
    "for x in xi:\n",
    "    if x not in ni:\n",
    "        ni[x] = 1\n",
    "    else:\n",
    "        ni[x] += 1\n",
    "\n",
    "ni"
   ]
  },
  {
   "cell_type": "code",
   "execution_count": 26,
   "id": "a16dea84",
   "metadata": {},
   "outputs": [
    {
     "data": {
      "text/plain": [
       "3.9"
      ]
     },
     "execution_count": 26,
     "metadata": {},
     "output_type": "execute_result"
    }
   ],
   "source": [
    "mx = []\n",
    "for k, v in zip(ni.keys(), ni.values()):\n",
    "    mx.append(k * v)\n",
    "    \n",
    "a = sum(mx) / sum(ni.values())\n",
    "a"
   ]
  },
  {
   "cell_type": "code",
   "execution_count": 40,
   "id": "615a05ec",
   "metadata": {},
   "outputs": [
    {
     "name": "stdout",
     "output_type": "stream",
     "text": [
      "2.875567576825293\n",
      "1.3643180835073778\n"
     ]
    }
   ],
   "source": [
    "n = sum(ni) - 1\n",
    "\n",
    "for x in set(xi):\n",
    "    b = (x - a)**2 * x\n",
    "    \n",
    "b = b / n\n",
    "print(b**0.5)"
   ]
  },
  {
   "cell_type": "code",
   "execution_count": 43,
   "id": "26895664",
   "metadata": {},
   "outputs": [
    {
     "data": {
      "text/plain": [
       "1.2191811530052712"
      ]
     },
     "execution_count": 43,
     "metadata": {},
     "output_type": "execute_result"
    }
   ],
   "source": [
    "se = b / sum(ni)**0.5\n",
    "se"
   ]
  },
  {
   "cell_type": "code",
   "execution_count": 28,
   "id": "a8f08c0c",
   "metadata": {},
   "outputs": [
    {
     "name": "stdout",
     "output_type": "stream",
     "text": [
      "[1, 2, 3, 4, 5, 6, 7, 8, 10]\n",
      "[3, 3, 5, 2, 3, 1, 1, 1, 1]\n"
     ]
    }
   ],
   "source": [
    "from scipy.stats import variation\n",
    "\n",
    "xI = [1, 2, 3, 4, 5, 6, 7, 8, 10]\n",
    "nI = [3, 3, 5, 2, 3, 1, 1, 1, 1]\n",
    "\n",
    "print(xI)\n",
    "print(nI)"
   ]
  },
  {
   "cell_type": "code",
   "execution_count": 29,
   "id": "23f77514",
   "metadata": {},
   "outputs": [
    {
     "data": {
      "text/html": [
       "<div>\n",
       "<style scoped>\n",
       "    .dataframe tbody tr th:only-of-type {\n",
       "        vertical-align: middle;\n",
       "    }\n",
       "\n",
       "    .dataframe tbody tr th {\n",
       "        vertical-align: top;\n",
       "    }\n",
       "\n",
       "    .dataframe thead th {\n",
       "        text-align: right;\n",
       "    }\n",
       "</style>\n",
       "<table border=\"1\" class=\"dataframe\">\n",
       "  <thead>\n",
       "    <tr style=\"text-align: right;\">\n",
       "      <th></th>\n",
       "      <th>xi</th>\n",
       "      <th>ni</th>\n",
       "    </tr>\n",
       "  </thead>\n",
       "  <tbody>\n",
       "    <tr>\n",
       "      <th>0</th>\n",
       "      <td>1</td>\n",
       "      <td>3</td>\n",
       "    </tr>\n",
       "    <tr>\n",
       "      <th>1</th>\n",
       "      <td>2</td>\n",
       "      <td>3</td>\n",
       "    </tr>\n",
       "    <tr>\n",
       "      <th>2</th>\n",
       "      <td>3</td>\n",
       "      <td>5</td>\n",
       "    </tr>\n",
       "    <tr>\n",
       "      <th>3</th>\n",
       "      <td>4</td>\n",
       "      <td>2</td>\n",
       "    </tr>\n",
       "    <tr>\n",
       "      <th>4</th>\n",
       "      <td>5</td>\n",
       "      <td>3</td>\n",
       "    </tr>\n",
       "    <tr>\n",
       "      <th>5</th>\n",
       "      <td>6</td>\n",
       "      <td>1</td>\n",
       "    </tr>\n",
       "    <tr>\n",
       "      <th>6</th>\n",
       "      <td>7</td>\n",
       "      <td>1</td>\n",
       "    </tr>\n",
       "    <tr>\n",
       "      <th>7</th>\n",
       "      <td>8</td>\n",
       "      <td>1</td>\n",
       "    </tr>\n",
       "    <tr>\n",
       "      <th>8</th>\n",
       "      <td>10</td>\n",
       "      <td>1</td>\n",
       "    </tr>\n",
       "  </tbody>\n",
       "</table>\n",
       "</div>"
      ],
      "text/plain": [
       "   xi  ni\n",
       "0   1   3\n",
       "1   2   3\n",
       "2   3   5\n",
       "3   4   2\n",
       "4   5   3\n",
       "5   6   1\n",
       "6   7   1\n",
       "7   8   1\n",
       "8  10   1"
      ]
     },
     "execution_count": 29,
     "metadata": {},
     "output_type": "execute_result"
    }
   ],
   "source": [
    "import pandas as pd\n",
    "\n",
    "df = pd.DataFrame({'xi':xI, 'ni':nI})\n",
    "df"
   ]
  },
  {
   "cell_type": "code",
   "execution_count": 30,
   "id": "d1c4189f",
   "metadata": {},
   "outputs": [],
   "source": [
    "df['pi'] = df['ni'] / len(xi) # Вероятность"
   ]
  },
  {
   "cell_type": "code",
   "execution_count": 77,
   "id": "b518e05c",
   "metadata": {
    "scrolled": true
   },
   "outputs": [
    {
     "data": {
      "text/html": [
       "<div>\n",
       "<style scoped>\n",
       "    .dataframe tbody tr th:only-of-type {\n",
       "        vertical-align: middle;\n",
       "    }\n",
       "\n",
       "    .dataframe tbody tr th {\n",
       "        vertical-align: top;\n",
       "    }\n",
       "\n",
       "    .dataframe thead th {\n",
       "        text-align: right;\n",
       "    }\n",
       "</style>\n",
       "<table border=\"1\" class=\"dataframe\">\n",
       "  <thead>\n",
       "    <tr style=\"text-align: right;\">\n",
       "      <th></th>\n",
       "      <th>xi</th>\n",
       "      <th>ni</th>\n",
       "      <th>pi</th>\n",
       "    </tr>\n",
       "  </thead>\n",
       "  <tbody>\n",
       "    <tr>\n",
       "      <th>0</th>\n",
       "      <td>1</td>\n",
       "      <td>3</td>\n",
       "      <td>0.15</td>\n",
       "    </tr>\n",
       "    <tr>\n",
       "      <th>1</th>\n",
       "      <td>2</td>\n",
       "      <td>3</td>\n",
       "      <td>0.15</td>\n",
       "    </tr>\n",
       "    <tr>\n",
       "      <th>2</th>\n",
       "      <td>3</td>\n",
       "      <td>5</td>\n",
       "      <td>0.25</td>\n",
       "    </tr>\n",
       "    <tr>\n",
       "      <th>3</th>\n",
       "      <td>4</td>\n",
       "      <td>2</td>\n",
       "      <td>0.10</td>\n",
       "    </tr>\n",
       "    <tr>\n",
       "      <th>4</th>\n",
       "      <td>5</td>\n",
       "      <td>3</td>\n",
       "      <td>0.15</td>\n",
       "    </tr>\n",
       "    <tr>\n",
       "      <th>5</th>\n",
       "      <td>6</td>\n",
       "      <td>1</td>\n",
       "      <td>0.05</td>\n",
       "    </tr>\n",
       "    <tr>\n",
       "      <th>6</th>\n",
       "      <td>7</td>\n",
       "      <td>1</td>\n",
       "      <td>0.05</td>\n",
       "    </tr>\n",
       "    <tr>\n",
       "      <th>7</th>\n",
       "      <td>8</td>\n",
       "      <td>1</td>\n",
       "      <td>0.05</td>\n",
       "    </tr>\n",
       "    <tr>\n",
       "      <th>8</th>\n",
       "      <td>10</td>\n",
       "      <td>1</td>\n",
       "      <td>0.05</td>\n",
       "    </tr>\n",
       "  </tbody>\n",
       "</table>\n",
       "</div>"
      ],
      "text/plain": [
       "   xi  ni    pi\n",
       "0   1   3  0.15\n",
       "1   2   3  0.15\n",
       "2   3   5  0.25\n",
       "3   4   2  0.10\n",
       "4   5   3  0.15\n",
       "5   6   1  0.05\n",
       "6   7   1  0.05\n",
       "7   8   1  0.05\n",
       "8  10   1  0.05"
      ]
     },
     "execution_count": 77,
     "metadata": {},
     "output_type": "execute_result"
    }
   ],
   "source": [
    "df"
   ]
  },
  {
   "cell_type": "markdown",
   "id": "9570d1e3",
   "metadata": {},
   "source": [
    "--------------------------------------------"
   ]
  },
  {
   "cell_type": "code",
   "execution_count": 1,
   "id": "4ae937e8",
   "metadata": {
    "scrolled": false
   },
   "outputs": [
    {
     "name": "stdout",
     "output_type": "stream",
     "text": [
      "['88.6', '89.9', '91.6', '94.4', '95.7', '97.4', '97.6', '98.1', '98.2', '99.4', '99.8', '100.0', '101.7', '101.8', '102.2', '104.3', '105.4', '106.7', '107.0', '109.5']\n"
     ]
    }
   ],
   "source": [
    "import numpy as np\n",
    "import matplotlib.pyplot as plt\n",
    "\n",
    "import numpy as np\n",
    "\n",
    "# Set a seed for the random number generator\n",
    "# (so we get the same random numbers each time)\n",
    "np.random.seed(20210710)\n",
    "\n",
    "# Create fake data\n",
    "mean = 100\n",
    "standard_deviation = 5\n",
    "sample_size = 20\n",
    "x = np.random.normal(mean, standard_deviation, sample_size)\n",
    "\n",
    "print([f'{x:.1f}' for x in sorted(x)])"
   ]
  },
  {
   "cell_type": "code",
   "execution_count": 2,
   "id": "cbfd2614",
   "metadata": {},
   "outputs": [
    {
     "name": "stdout",
     "output_type": "stream",
     "text": [
      "109.46032176956463 88.62312621070188\n"
     ]
    }
   ],
   "source": [
    "print(max(x), min(x))"
   ]
  },
  {
   "cell_type": "code",
   "execution_count": 14,
   "id": "29c18b34",
   "metadata": {},
   "outputs": [
    {
     "data": {
      "image/png": "[encoded data removed]",
      "text/plain": [
       "<Figure size 640x480 with 1 Axes>"
      ]
     },
     "metadata": {},
     "output_type": "display_data"
    }
   ],
   "source": [
    "import scipy.stats as st\n",
    " \n",
    "import numpy as np\n",
    "import matplotlib.pyplot as plt\n",
    "\n",
    "\n",
    "# Create data\n",
    "x_pdf = np.linspace(84, 116, 1000)\n",
    "mean = 100\n",
    "std = 5\n",
    "y_pdf = st.norm.pdf(x_pdf, mean, std)\n",
    "\n",
    "# Create plot\n",
    "ax = plt.axes()\n",
    "ax.plot(x_pdf, y_pdf)\n",
    "ax.set_title('Probability Distribution Function')\n",
    "ax.set_ylabel('Relative Likelihood')\n",
    "ax.set_xlabel('Value')\n",
    "ax.set_ylim(0, np.max(y_pdf) * 1.08)\n",
    "ax.set_xlim(84, 116)\n",
    "# Minus one standard deviation\n",
    "y = st.norm.pdf(mean - std, mean, std)\n",
    "ax.vlines(mean - std, 0, y, colors='k', ls='dotted')\n",
    "plt.text(mean - std, y * 1.05, r'$\\mu - \\sigma$', ha='right')\n",
    "# Mean\n",
    "y = st.norm.pdf(mean, mean, std)\n",
    "ax.vlines(mean, 0, y, colors='k', ls='dashed')\n",
    "plt.text(mean, y * 1.02, r'Mean, $\\mu$', ha='center')\n",
    "# Plus one standard deviation\n",
    "y = st.norm.pdf(mean + std, mean, std)\n",
    "ax.vlines(mean + std, 0, y, colors='k', ls='dotted')\n",
    "plt.text(mean + std, y * 1.05, r'$\\mu + \\sigma$', ha='left')\n",
    "# Finish\n",
    "plt.show()\n",
    "plt.close()"
   ]
  },
  {
   "cell_type": "code",
   "execution_count": 19,
   "id": "56e17269",
   "metadata": {},
   "outputs": [
    {
     "name": "stdout",
     "output_type": "stream",
     "text": [
      "Sample mean = 99.5; sample standard deviation = 5.7\n"
     ]
    }
   ],
   "source": [
    "x_bar = np.mean(x)\n",
    "# Sample standard deviation\n",
    "s = np.std(x, ddof=1)  # Use ddof=1 to get the sample standard deviation\n",
    "\n",
    "print(rf'Sample mean = {x_bar:4.1f}; sample standard deviation = {s:3.1f}')"
   ]
  },
  {
   "cell_type": "code",
   "execution_count": 19,
   "id": "1efb84e0",
   "metadata": {},
   "outputs": [
    {
     "name": "stdout",
     "output_type": "stream",
     "text": [
      "0.95\n",
      "0.050000000000000044\n",
      "2\n",
      "0.975\n"
     ]
    }
   ],
   "source": [
    "C = 0.95  # 95%\n",
    "    # Significance level, α\n",
    "alpha = 1 - C\n",
    "    # Number of tails\n",
    "tails = 2\n",
    "    # Quantile (the cumulative probability)\n",
    "q = 1 - (alpha / tails)\n",
    "\n",
    "\n",
    "print(C)\n",
    "print(alpha)\n",
    "print(tails)\n",
    "print(q)"
   ]
  },
  {
   "cell_type": "code",
   "execution_count": null,
   "id": "ae299cbe",
   "metadata": {},
   "outputs": [],
   "source": []
  },
  {
   "cell_type": "code",
   "execution_count": null,
   "id": "5e5f10c3",
   "metadata": {},
   "outputs": [],
   "source": []
  }
 ],
 "metadata": {
  "kernelspec": {
   "display_name": "Python 3 (ipykernel)",
   "language": "python",
   "name": "python3"
  },
  "language_info": {
   "codemirror_mode": {
    "name": "ipython",
    "version": 3
   },
   "file_extension": ".py",
   "mimetype": "text/x-python",
   "name": "python",
   "nbconvert_exporter": "python",
   "pygments_lexer": "ipython3",
   "version": "3.10.8"
  }
 },
 "nbformat": 4,
 "nbformat_minor": 5
}
