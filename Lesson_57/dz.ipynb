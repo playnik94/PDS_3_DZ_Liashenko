{
 "cells": [
  {
   "cell_type": "code",
   "execution_count": 62,
   "id": "e2ca498c",
   "metadata": {},
   "outputs": [],
   "source": [
    "import cv2\n",
    "import numpy as np\n",
    "\n",
    "def readImagesAndTimes():\n",
    "    times = np.array([ 1/30.0, 0.25, 2.5, 15.0 ], dtype=np.float32)\n",
    "    images = []\n",
    "    filenames = [\"img_0.033.jpg\", \"img_0.25.jpg\", \"img_2.5.jpg\", \"img_15.jpg\"]\n",
    "    for filename in filenames:\n",
    "        im = cv2.imread(filename)\n",
    "        images.append(im)\n",
    "    return images, times"
   ]
  },
  {
   "cell_type": "code",
   "execution_count": 63,
   "id": "641ef239",
   "metadata": {},
   "outputs": [
    {
     "data": {
      "text/plain": [
       "-1"
      ]
     },
     "execution_count": 63,
     "metadata": {},
     "output_type": "execute_result"
    }
   ],
   "source": [
    "### HDR \n",
    "\n",
    "\n",
    "images, times = readImagesAndTimes()\n",
    "\n",
    "alignMTB = cv2.createAlignMTB()\n",
    "alignMTB.process(images, images)\n",
    "\n",
    "calibrateDebevec = cv2.createCalibrateDebevec()\n",
    "responseDebevec = calibrateDebevec.process(images, times)\n",
    "\n",
    "mergeDebevec = cv2.createMergeDebevec()\n",
    "ndrDebevec = mergeDebevec.process(images, times, responseDebevec)\n",
    "\n",
    "ndrDebevec = cv2.resize(ndrDebevec, (1200, 900))\n",
    "cv2.imwrite('TEST.hdr', ndrDebevec)\n",
    "cv2.imshow('test', ndrDebevec)\n",
    "cv2.waitKey(0)"
   ]
  },
  {
   "cell_type": "code",
   "execution_count": 66,
   "id": "1832ceed",
   "metadata": {},
   "outputs": [
    {
     "data": {
      "text/plain": [
       "-1"
      ]
     },
     "execution_count": 66,
     "metadata": {},
     "output_type": "execute_result"
    }
   ],
   "source": [
    "## Тонируем с тспользовагием Drago\n",
    "\n",
    "tonemapDrago = cv2.createTonemapDrago(1.0, 0.7)\n",
    "ldrDrago = tonemapDrago.process(ndrDebevec)\n",
    "ldrDrago = 3 * ldrDrago\n",
    "\n",
    "cv2.imwrite('TEST_DRAGO.jpg', ldrDrago * 255)\n",
    "hdr1 = cv2.imread('TEST_DRAGO.jpg')\n",
    "cv2.imshow('drago', hdr1)\n",
    "cv2.waitKey(0)"
   ]
  },
  {
   "cell_type": "code",
   "execution_count": 67,
   "id": "9ee3ad36",
   "metadata": {},
   "outputs": [
    {
     "data": {
      "text/plain": [
       "-1"
      ]
     },
     "execution_count": 67,
     "metadata": {},
     "output_type": "execute_result"
    }
   ],
   "source": [
    "## Тонируем методом Reinhard\n",
    "\n",
    "tonemapReinhard = cv2.createTonemapReinhard(1.5, 0,0,0)\n",
    "ldrReinhard = tonemapReinhard.process(ndrDebevec)\n",
    "cv2.imwrite('TEST_Reinhard.jpg', ldrReinhard * 255)\n",
    "\n",
    "\n",
    "hdr2 = cv2.imread('TEST_Reinhard.jpg')\n",
    "cv2.imshow('drago', hdr2)\n",
    "cv2.waitKey(0)"
   ]
  },
  {
   "cell_type": "code",
   "execution_count": 70,
   "id": "a02c917a",
   "metadata": {},
   "outputs": [
    {
     "data": {
      "text/plain": [
       "-1"
      ]
     },
     "execution_count": 70,
     "metadata": {},
     "output_type": "execute_result"
    }
   ],
   "source": [
    "\n",
    "tonemMantiuk = cv2.createTonemapMantiuk(2.2, 0.85, 1.2)\n",
    "ldrMantiuk = tonemMantiuk.process(ndrDebevec)\n",
    "ldrMantiuk = 3 * ldrMantiuk\n",
    "cv2.imwrite('TEST_Mantiuk.jpg', ldrMantiuk * 255)\n",
    "\n",
    "hdr3 = cv2.imread('TEST_Mantiuk.jpg')\n",
    "cv2.imshow('Mauntiuk', hdr3)\n",
    "cv2.waitKey(0)"
   ]
  },
  {
   "cell_type": "code",
   "execution_count": 77,
   "id": "6d303d65",
   "metadata": {},
   "outputs": [],
   "source": [
    "import glob\n",
    "\n",
    "for name in glob.glob('D:/Neural_networks/Lesson_57/**.jpg'):\n",
    "    img = cv2.imread(name)\n",
    "    cv2.imshow('res', img)\n",
    "    if cv2.waitKey(0) & ord('q') == 0xff:\n",
    "        break\n",
    "    "
   ]
  },
  {
   "cell_type": "code",
   "execution_count": 4,
   "id": "102b9aa9",
   "metadata": {},
   "outputs": [
    {
     "data": {
      "text/plain": [
       "-1"
      ]
     },
     "execution_count": 4,
     "metadata": {},
     "output_type": "execute_result"
    }
   ],
   "source": [
    "import cv2\n",
    "import numpy as np\n",
    "\n",
    "img = cv2.imread('D:/Neural_networks/Lesson_57/img/wolf1.jpg')\n",
    "\n",
    "b, g, r = cv2.split(img)\n",
    "\n",
    "b_co = cv2.equalizeHist(b)\n",
    "g_co = cv2.equalizeHist(g)\n",
    "r_co = cv2.equalizeHist(r)\n",
    "\n",
    "img_merge = cv2.merge((b_co, g_co, r_co))\n",
    "cv2.imshow('merge', np.hstack([img_merge, img]))\n",
    "cv2.waitKey(0)\n"
   ]
  },
  {
   "cell_type": "code",
   "execution_count": 4,
   "id": "71bcb5f7",
   "metadata": {},
   "outputs": [],
   "source": [
    "import glob\n",
    "import cv2\n",
    "import numpy as np\n",
    "\n",
    "original = cv2.imread(\"D:/Neural_networks/Lesson_57/img/wolf1.jpg\")\n",
    "\n",
    "def adjust_gamma(image, gamma=1.0):\n",
    "    inv_gamma = 1.0 / gamma\n",
    "    table = np.array([((i / 255.0) ** inv_gamma) * 255 for i in np.arange(0, 256)]).astype('uint8')\n",
    "    return cv2.LUT(image, table)\n",
    "\n",
    "for gamma in np.arange(0.0, 3.5, 0.5):\n",
    "    if gamma == 1:\n",
    "        continue\n",
    "    gamma = gamma if gamma > 0 else 0.1\n",
    "    adjust = adjust_gamma(original, gamma=gamma)\n",
    "    cv2.putText(adjust, f\"g={gamma}\", (10,30), cv2.FONT_HERSHEY_SIMPLEX, 0.8, (0,0,255), 3)\n",
    "    cv2.imshow('change_gamma', np.hstack([adjust, original]))\n",
    "    cv2.waitKey(0)\n",
    "    "
   ]
  },
  {
   "cell_type": "code",
   "execution_count": 2,
   "id": "69780fa9",
   "metadata": {
    "collapsed": true
   },
   "outputs": [
    {
     "data": {
      "text/plain": [
       "([array([[[0, 0, 0],\n",
       "          [0, 0, 0],\n",
       "          [0, 0, 0],\n",
       "          ...,\n",
       "          [0, 0, 0],\n",
       "          [0, 0, 0],\n",
       "          [0, 0, 0]],\n",
       "  \n",
       "         [[0, 0, 0],\n",
       "          [0, 0, 0],\n",
       "          [0, 0, 0],\n",
       "          ...,\n",
       "          [0, 0, 0],\n",
       "          [0, 0, 0],\n",
       "          [0, 0, 0]],\n",
       "  \n",
       "         [[1, 1, 1],\n",
       "          [1, 1, 1],\n",
       "          [1, 1, 1],\n",
       "          ...,\n",
       "          [0, 0, 0],\n",
       "          [0, 0, 0],\n",
       "          [0, 0, 0]],\n",
       "  \n",
       "         ...,\n",
       "  \n",
       "         [[0, 0, 0],\n",
       "          [0, 0, 0],\n",
       "          [0, 0, 0],\n",
       "          ...,\n",
       "          [1, 1, 1],\n",
       "          [0, 0, 0],\n",
       "          [0, 0, 0]],\n",
       "  \n",
       "         [[0, 0, 0],\n",
       "          [0, 0, 0],\n",
       "          [0, 0, 0],\n",
       "          ...,\n",
       "          [0, 0, 0],\n",
       "          [0, 0, 0],\n",
       "          [0, 0, 0]],\n",
       "  \n",
       "         [[0, 0, 0],\n",
       "          [1, 1, 1],\n",
       "          [1, 1, 1],\n",
       "          ...,\n",
       "          [0, 0, 0],\n",
       "          [0, 0, 0],\n",
       "          [0, 0, 0]]], dtype=uint8),\n",
       "  array([[[0, 0, 0],\n",
       "          [0, 0, 0],\n",
       "          [0, 0, 0],\n",
       "          ...,\n",
       "          [0, 0, 0],\n",
       "          [0, 0, 0],\n",
       "          [0, 0, 0]],\n",
       "  \n",
       "         [[0, 0, 0],\n",
       "          [0, 0, 0],\n",
       "          [0, 0, 0],\n",
       "          ...,\n",
       "          [0, 0, 0],\n",
       "          [1, 1, 1],\n",
       "          [1, 1, 1]],\n",
       "  \n",
       "         [[0, 0, 0],\n",
       "          [0, 0, 0],\n",
       "          [1, 1, 1],\n",
       "          ...,\n",
       "          [0, 0, 0],\n",
       "          [1, 1, 1],\n",
       "          [1, 1, 1]],\n",
       "  \n",
       "         ...,\n",
       "  \n",
       "         [[1, 1, 1],\n",
       "          [4, 4, 4],\n",
       "          [4, 4, 4],\n",
       "          ...,\n",
       "          [1, 1, 1],\n",
       "          [1, 1, 1],\n",
       "          [1, 1, 1]],\n",
       "  \n",
       "         [[3, 3, 3],\n",
       "          [3, 3, 3],\n",
       "          [3, 3, 3],\n",
       "          ...,\n",
       "          [1, 1, 1],\n",
       "          [1, 1, 1],\n",
       "          [1, 1, 1]],\n",
       "  \n",
       "         [[3, 3, 3],\n",
       "          [1, 1, 1],\n",
       "          [1, 1, 1],\n",
       "          ...,\n",
       "          [1, 1, 1],\n",
       "          [1, 1, 1],\n",
       "          [1, 1, 1]]], dtype=uint8),\n",
       "  array([[[ 9,  9,  9],\n",
       "          [ 9,  9,  9],\n",
       "          [ 8,  8,  8],\n",
       "          ...,\n",
       "          [11, 11, 11],\n",
       "          [10, 10, 10],\n",
       "          [ 9,  9,  9]],\n",
       "  \n",
       "         [[ 7,  7,  7],\n",
       "          [ 8,  8,  8],\n",
       "          [ 8,  8,  8],\n",
       "          ...,\n",
       "          [11, 11, 11],\n",
       "          [11, 11, 11],\n",
       "          [12, 12, 12]],\n",
       "  \n",
       "         [[ 7,  7,  7],\n",
       "          [ 7,  7,  7],\n",
       "          [ 8,  8,  8],\n",
       "          ...,\n",
       "          [ 9,  9,  9],\n",
       "          [ 9,  9,  9],\n",
       "          [12, 12, 12]],\n",
       "  \n",
       "         ...,\n",
       "  \n",
       "         [[15, 24, 27],\n",
       "          [14, 23, 26],\n",
       "          [15, 24, 27],\n",
       "          ...,\n",
       "          [ 8, 10, 10],\n",
       "          [ 4,  9,  8],\n",
       "          [ 4,  9,  8]],\n",
       "  \n",
       "         [[14, 23, 26],\n",
       "          [13, 22, 25],\n",
       "          [15, 24, 28],\n",
       "          ...,\n",
       "          [ 8, 10, 10],\n",
       "          [ 8, 10, 10],\n",
       "          [ 8, 10, 10]],\n",
       "  \n",
       "         [[13, 22, 25],\n",
       "          [12, 21, 24],\n",
       "          [15, 24, 28],\n",
       "          ...,\n",
       "          [ 9, 11, 11],\n",
       "          [11, 13, 13],\n",
       "          [10, 12, 12]]], dtype=uint8),\n",
       "  array([[[ 52,  40,  28],\n",
       "          [ 45,  33,  21],\n",
       "          [ 56,  41,  32],\n",
       "          ...,\n",
       "          [ 67,  53,  47],\n",
       "          [ 64,  52,  46],\n",
       "          [ 69,  57,  51]],\n",
       "  \n",
       "         [[ 56,  41,  32],\n",
       "          [ 58,  43,  34],\n",
       "          [ 56,  40,  28],\n",
       "          ...,\n",
       "          [ 64,  52,  46],\n",
       "          [ 62,  52,  45],\n",
       "          [ 65,  55,  48]],\n",
       "  \n",
       "         [[ 56,  41,  32],\n",
       "          [ 64,  49,  40],\n",
       "          [ 58,  42,  30],\n",
       "          ...,\n",
       "          [ 58,  50,  43],\n",
       "          [ 64,  54,  47],\n",
       "          [ 64,  54,  47]],\n",
       "  \n",
       "         ...,\n",
       "  \n",
       "         [[ 61,  92, 113],\n",
       "          [ 69,  98, 119],\n",
       "          [ 71, 100, 121],\n",
       "          ...,\n",
       "          [ 38,  50,  62],\n",
       "          [ 40,  51,  65],\n",
       "          [ 35,  46,  60]],\n",
       "  \n",
       "         [[ 64,  96, 115],\n",
       "          [ 72, 102, 121],\n",
       "          [ 73, 103, 122],\n",
       "          ...,\n",
       "          [ 45,  56,  70],\n",
       "          [ 46,  57,  71],\n",
       "          [ 41,  52,  66]],\n",
       "  \n",
       "         [[ 66,  96, 115],\n",
       "          [ 67,  97, 116],\n",
       "          [ 73, 100, 120],\n",
       "          ...,\n",
       "          [ 43,  59,  72],\n",
       "          [ 40,  56,  69],\n",
       "          [ 36,  52,  65]]], dtype=uint8)],\n",
       " array([ 0.03333333,  0.25      ,  2.5       , 15.        ]))"
      ]
     },
     "execution_count": 2,
     "metadata": {},
     "output_type": "execute_result"
    }
   ],
   "source": [
    "import cv2\n",
    "import numpy as np\n",
    "\n",
    "\n",
    "def readImagesAndTimes():\n",
    "    times = np.array([1/30.0, 0.25, 2.5, 15.0])\n",
    "    filenames = [\"img_0.033.jpg\", \"img_0.25.jpg\", \"img_2.5.jpg\", \"img_15.jpg\"]\n",
    "    images = []\n",
    "    for filename in filenames:\n",
    "        im = cv2.imread(filename)\n",
    "        images.append(im)\n",
    "    return images, times\n",
    "readImagesAndTimes()"
   ]
  },
  {
   "cell_type": "code",
   "execution_count": null,
   "id": "941b6ffd",
   "metadata": {},
   "outputs": [],
   "source": [
    "print(\"Читання зображень ... \")\n",
    "images, times = readImagesAndTimes()\n",
    "\n",
    "# Вирівнюємо вхідні зображення\n",
    "print(\"Вирівнюємо зображення ... \")\n",
    "alignMTB = cv2.createAlignMTB()\n",
    "alignMTB.process(images, images)\n",
    "\n",
    "# Отримуємо функцію відповіді камери (CRF)\n",
    "print(\"Обчислюємо функцію відповіді камери (CRF) ... \")\n",
    "calibrateDebevec = cv2.createCalibrateDebevec()\n",
    "responseDebevec = calibrateDebevec.process(images, times)\n",
    "\n",
    "# Об'єднуємо зображення в лінійне зображення HDR\n",
    "print(\"Об'єднуємо зображення в лінійне зображення HDR ... \")\n",
    "mergeDebevec = cv2.createMergeDebevec()\n",
    "hdrDebevec = mergeDebevec.process(images, times, responseDebevec)\n",
    "# Save HDR image.\n",
    "cv2.imwrite(\"hdrDebevec.hdr\", hdrDebevec)\n",
    "print(\"Зберігаємо у hdrDebevec.hdr \")"
   ]
  }
 ],
 "metadata": {
  "kernelspec": {
   "display_name": "Python 3 (ipykernel)",
   "language": "python",
   "name": "python3"
  },
  "language_info": {
   "codemirror_mode": {
    "name": "ipython",
    "version": 3
   },
   "file_extension": ".py",
   "mimetype": "text/x-python",
   "name": "python",
   "nbconvert_exporter": "python",
   "pygments_lexer": "ipython3",
   "version": "3.10.8"
  }
 },
 "nbformat": 4,
 "nbformat_minor": 5
}
