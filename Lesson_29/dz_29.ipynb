{
 "cells": [
  {
   "cell_type": "markdown",
   "id": "2d8035cb",
   "metadata": {},
   "source": [
    "### Задача номер 1.\n",
    "\n",
    "![DZ](./DZ_29.png)"
   ]
  },
  {
   "cell_type": "code",
   "execution_count": 1,
   "id": "f8f2d67e",
   "metadata": {},
   "outputs": [],
   "source": [
    "\n",
    "xi = [12, 36, 60, 84, 108, 132, 156, 180, 204]\n",
    "x = [24, 48, 72, 96, 120, 144, 168, 192, 216]\n",
    "ni = [1, 2, 4, 6, 12, 16, 6, 2 , 1]\n",
    "\n",
    "n = sum(ni)\n",
    "a = 0.01"
   ]
  },
  {
   "cell_type": "code",
   "execution_count": 3,
   "id": "c726479a",
   "metadata": {},
   "outputs": [
    {
     "name": "stdout",
     "output_type": "stream",
     "text": [
      " Мат ожидание: 114.72\n"
     ]
    }
   ],
   "source": [
    "mx = []\n",
    "\n",
    "for i, j in zip(xi, ni):\n",
    "    mx.append(i * j)\n",
    "    \n",
    "mx = sum(mx)\n",
    "mx = mx / n\n",
    "print(f' Мат ожидание: {mx}')"
   ]
  },
  {
   "cell_type": "code",
   "execution_count": 4,
   "id": "1bd3d652",
   "metadata": {},
   "outputs": [
    {
     "name": "stdout",
     "output_type": "stream",
     "text": [
      "Дисперсия: 1452.441600000002\n"
     ]
    }
   ],
   "source": [
    "dx = []\n",
    "\n",
    "for i, j in zip(xi, ni):\n",
    "    dx.append(i**2 * j)\n",
    "    \n",
    "dx = sum(dx)\n",
    "dx = dx / n\n",
    "dx = dx - mx**2\n",
    "\n",
    "print(f'Дисперсия: {dx}')"
   ]
  },
  {
   "cell_type": "code",
   "execution_count": 5,
   "id": "788c8dda",
   "metadata": {},
   "outputs": [
    {
     "name": "stdout",
     "output_type": "stream",
     "text": [
      "Среднеквадратическое отклонение: 38.1109118232561\n"
     ]
    }
   ],
   "source": [
    "s = dx**0.5\n",
    "\n",
    "print(f'Среднеквадратическое отклонение: {s}')"
   ]
  },
  {
   "cell_type": "code",
   "execution_count": 14,
   "id": "3ae64ae5",
   "metadata": {},
   "outputs": [],
   "source": [
    "# intervals\n",
    "# Zi-1 = ai - 1 - x! / G\n",
    "#  Zi  = ai - x! / G\n",
    "#  ni! = n * pi\n",
    "#  pi  = fi(Zi-1) - fi(Zi)\n",
    "# K_емп = (ni - ni!)**2 / ni!\n",
    "# K_емп = sum((ni - ni!)**2 / ni!)"
   ]
  },
  {
   "cell_type": "code",
   "execution_count": 6,
   "id": "49d47b77",
   "metadata": {},
   "outputs": [
    {
     "name": "stdout",
     "output_type": "stream",
     "text": [
      "[-2.38, -1.751, -1.121, -0.491, 0.139, 0.768, 1.398, 2.028, 2.658]\n"
     ]
    }
   ],
   "source": [
    "Zi_1 = []\n",
    "\n",
    "\n",
    "for i in x:\n",
    "    Zi_1.append(round((i - mx) / s, 3))\n",
    "\n",
    "\n",
    "print(Zi_1)"
   ]
  },
  {
   "cell_type": "code",
   "execution_count": 8,
   "id": "b3a04532",
   "metadata": {},
   "outputs": [],
   "source": [
    "zi_1 = [-0.4913, -0.4599, -0.3686, -0.1879, 0.0556, 0.2793, 0.3508, 0.4803, 0.5] # Находим по таблице Лаплпсса -> Zi_1\n",
    "zi =   [-0.5, -0.4913, -0.4599, -0.3686, -0.1879, 0.0556, 0.2793, 0.3508, 0.4960]"
   ]
  },
  {
   "cell_type": "code",
   "execution_count": 9,
   "id": "6ba12cff",
   "metadata": {},
   "outputs": [
    {
     "name": "stdout",
     "output_type": "stream",
     "text": [
      "-0.5 -0.4913\n",
      "-0.4913 -0.4599\n",
      "-0.4599 -0.3686\n",
      "-0.3686 -0.1879\n",
      "-0.1879 0.0556\n",
      "0.0556 0.2793\n",
      "0.2793 0.3508\n",
      "0.3508 0.4803\n",
      "0.496 0.5\n"
     ]
    }
   ],
   "source": [
    "for j, k in zip(zi, zi_1):\n",
    "    print(j, k)"
   ]
  },
  {
   "cell_type": "code",
   "execution_count": 10,
   "id": "e34fda13",
   "metadata": {},
   "outputs": [
    {
     "name": "stdout",
     "output_type": "stream",
     "text": [
      "[0.009, 0.031, 0.091, 0.181, 0.243, 0.224, 0.072, 0.13, 0.004]\n",
      "[1, 2, 5, 9, 12, 11, 4, 6, 1]\n"
     ]
    }
   ],
   "source": [
    "pi = []\n",
    "n_i = []\n",
    "\n",
    "for i, j in zip(zi_1, zi):\n",
    "    pi.append(round(abs(i - j), 3))\n",
    "\n",
    "print(pi)\n",
    "\n",
    "for i in pi:\n",
    "    n_i.append(round(n * i))\n",
    "\n",
    "n_i = [1 if i == 0 in n_i else i for i in n_i]\n",
    "\n",
    "print(n_i)"
   ]
  },
  {
   "cell_type": "code",
   "execution_count": 13,
   "id": "db8676e8",
   "metadata": {},
   "outputs": [
    {
     "name": "stdout",
     "output_type": "stream",
     "text": [
      "-2.38 : -0.5 : -0.4913 : 0.009 : 1 :\n",
      "-1.751 : -0.4913 : -0.4599 : 0.031 : 2 :\n",
      "-1.121 : -0.4599 : -0.3686 : 0.091 : 5 :\n",
      "-0.491 : -0.3686 : -0.1879 : 0.181 : 9 :\n",
      "0.139 : -0.1879 : 0.0556 : 0.243 : 12 :\n",
      "0.768 : 0.0556 : 0.2793 : 0.224 : 11 :\n",
      "1.398 : 0.2793 : 0.3508 : 0.072 : 4 :\n",
      "2.028 : 0.3508 : 0.4803 : 0.13 : 6 :\n",
      "2.658 : 0.496 : 0.5 : 0.004 : 1 :\n"
     ]
    }
   ],
   "source": [
    "for a, b, c ,d, g in zip(Zi_1, zi, zi_1, pi, n_i):\n",
    "    print(f'{a} : {b} : {c} : {d} : {g} :')"
   ]
  },
  {
   "cell_type": "code",
   "execution_count": 16,
   "id": "c9569aad",
   "metadata": {},
   "outputs": [
    {
     "data": {
      "text/plain": [
       "7.139393939393939"
      ]
     },
     "execution_count": 16,
     "metadata": {},
     "output_type": "execute_result"
    }
   ],
   "source": [
    "n_i_ni2 = []\n",
    "\n",
    "for i, j in zip(ni, n_i):\n",
    "    n_i_ni2.append((i - j)**2 / j)\n",
    "\n",
    "k_emp = sum(n_i_ni2)\n",
    "k_emp"
   ]
  },
  {
   "cell_type": "code",
   "execution_count": 1,
   "id": "14b9e5d5",
   "metadata": {},
   "outputs": [
    {
     "name": "stdout",
     "output_type": "stream",
     "text": [
      "6\n",
      "16.9\n"
     ]
    }
   ],
   "source": [
    "r = 9 - 2 - 1\n",
    "\n",
    "k_kr = 16.9\n",
    "\n",
    "print(r)\n",
    "print(k_kr)"
   ]
  },
  {
   "cell_type": "code",
   "execution_count": 18,
   "id": "20b65129",
   "metadata": {},
   "outputs": [
    {
     "name": "stdout",
     "output_type": "stream",
     "text": [
      "K-емпирические | 7.139393939393939 <  16.9 | К-ритических : Ho Нулевая гипотеза подтверждается от нормальном распределении\n"
     ]
    }
   ],
   "source": [
    "if k_kr > k_emp:\n",
    "    print(f'K-емпирические | {k_emp} <  {k_kr} | К-ритических : Ho Нулевая гипотеза подтверждается от нормальном распределении')\n",
    "else:\n",
    "    print(f'K-емпирические | {k_emp} <  {k_kr} | К-ритических :   : H1 Гипотеза подтверждается о не нормальном распределении')\n",
    "    \n",
    "    "
   ]
  },
  {
   "cell_type": "markdown",
   "id": "571da5ab",
   "metadata": {},
   "source": [
    "\n",
    "### Задача номер 2.\n",
    "\n",
    "![DZ](./DZ_29_2.png)"
   ]
  },
  {
   "cell_type": "markdown",
   "id": "ab303279",
   "metadata": {},
   "source": [
    "Відомо що P(X>=3) = 0.4, M(X) = 2\n",
    "\n",
    "Проміжок можливих значень рівномірно розподіленої випадкової величини є [a;b], тоді функція щільності розподілу має вигляд: f(x) = 0, якщо x < a f(x) = 1 / (b-a), якщо a < x <= b f(x) = 0, якщо x > b\n",
    "\n",
    "Формула математичного сподівання буде мати вигляд: M(X) = ∫ba x / (b-a) dx\n",
    "\n",
    "Визначимо проміжок (а;b) зміни випадкової величини склавши систему рівнянь\n",
    "\n",
    "∫b3 1 / (b-a) dx = 0.4 ∫ba x / (b-a) dx = 2\n",
    "\n",
    "x / (b-a) |b3 = 0.4 x2 / 2(b-a) |ba = 2\n",
    "\n",
    "(b-3) / (b-a) = 0.4 (b2 - a2) / 2(b-a) = 2\n",
    "\n",
    "(b-3) / (b-a) = 0.4 (b+a) / 2 = 2\n",
    "\n",
    "0.6b + 0.4a = 3 b = 4 - a\n",
    "\n",
    "a = -3 b = 7\n",
    "\n",
    "Отже, f(x) = 0, якщо x < -3 f(x) = 0.1, якщо -3 < x <= 7 f(x) = 0, якщо x > 7"
   ]
  },
  {
   "cell_type": "code",
   "execution_count": null,
   "id": "6a57ea00",
   "metadata": {},
   "outputs": [],
   "source": []
  }
 ],
 "metadata": {
  "kernelspec": {
   "display_name": "Python 3 (ipykernel)",
   "language": "python",
   "name": "python3"
  },
  "language_info": {
   "codemirror_mode": {
    "name": "ipython",
    "version": 3
   },
   "file_extension": ".py",
   "mimetype": "text/x-python",
   "name": "python",
   "nbconvert_exporter": "python",
   "pygments_lexer": "ipython3",
   "version": "3.10.8"
  }
 },
 "nbformat": 4,
 "nbformat_minor": 5
}
